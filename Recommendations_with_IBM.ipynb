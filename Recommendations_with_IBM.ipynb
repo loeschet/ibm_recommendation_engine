{
 "cells": [
  {
   "cell_type": "markdown",
   "metadata": {},
   "source": [
    "# Recommendations with IBM\n",
    "\n",
    "In this notebook, you will be putting your recommendation skills to use on real data from the IBM Watson Studio platform. \n",
    "\n",
    "\n",
    "You may either submit your notebook through the workspace here, or you may work from your local machine and submit through the next page.  Either way assure that your code passes the project [RUBRIC](https://review.udacity.com/#!/rubrics/3325/view).  **Please save regularly.**\n",
    "\n",
    "By following the table of contents, you will build out a number of different methods for making recommendations that can be used for different situations. \n",
    "\n",
    "\n",
    "## Table of Contents\n",
    "\n",
    "I. [Exploratory Data Analysis](#Exploratory-Data-Analysis)<br>\n",
    "II. [Rank Based Recommendations](#Rank)<br>\n",
    "III. [User-User Based Collaborative Filtering](#User-User)<br>\n",
    "IV. [Content Based Recommendations (EXTRA - NOT REQUIRED)](#Content-Recs)<br>\n",
    "V. [Matrix Factorization](#Matrix-Fact)<br>\n",
    "VI. [Extras & Concluding](#conclusions)\n",
    "\n",
    "At the end of the notebook, you will find directions for how to submit your work.  Let's get started by importing the necessary libraries and reading in the data."
   ]
  },
  {
   "cell_type": "code",
   "execution_count": 128,
   "metadata": {
    "collapsed": true
   },
   "outputs": [
    {
     "data": {
      "text/html": [
       "<div>\n",
       "<style scoped>\n",
       "    .dataframe tbody tr th:only-of-type {\n",
       "        vertical-align: middle;\n",
       "    }\n",
       "\n",
       "    .dataframe tbody tr th {\n",
       "        vertical-align: top;\n",
       "    }\n",
       "\n",
       "    .dataframe thead th {\n",
       "        text-align: right;\n",
       "    }\n",
       "</style>\n",
       "<table border=\"1\" class=\"dataframe\">\n",
       "  <thead>\n",
       "    <tr style=\"text-align: right;\">\n",
       "      <th></th>\n",
       "      <th>article_id</th>\n",
       "      <th>title</th>\n",
       "      <th>email</th>\n",
       "    </tr>\n",
       "  </thead>\n",
       "  <tbody>\n",
       "    <tr>\n",
       "      <th>0</th>\n",
       "      <td>1430.0</td>\n",
       "      <td>using pixiedust for fast, flexible, and easier...</td>\n",
       "      <td>ef5f11f77ba020cd36e1105a00ab868bbdbf7fe7</td>\n",
       "    </tr>\n",
       "    <tr>\n",
       "      <th>1</th>\n",
       "      <td>1314.0</td>\n",
       "      <td>healthcare python streaming application demo</td>\n",
       "      <td>083cbdfa93c8444beaa4c5f5e0f5f9198e4f9e0b</td>\n",
       "    </tr>\n",
       "    <tr>\n",
       "      <th>2</th>\n",
       "      <td>1429.0</td>\n",
       "      <td>use deep learning for image classification</td>\n",
       "      <td>b96a4f2e92d8572034b1e9b28f9ac673765cd074</td>\n",
       "    </tr>\n",
       "    <tr>\n",
       "      <th>3</th>\n",
       "      <td>1338.0</td>\n",
       "      <td>ml optimization using cognitive assistant</td>\n",
       "      <td>06485706b34a5c9bf2a0ecdac41daf7e7654ceb7</td>\n",
       "    </tr>\n",
       "    <tr>\n",
       "      <th>4</th>\n",
       "      <td>1276.0</td>\n",
       "      <td>deploy your python model as a restful api</td>\n",
       "      <td>f01220c46fc92c6e6b161b1849de11faacd7ccb2</td>\n",
       "    </tr>\n",
       "  </tbody>\n",
       "</table>\n",
       "</div>"
      ],
      "text/plain": [
       "   article_id                                              title  \\\n",
       "0      1430.0  using pixiedust for fast, flexible, and easier...   \n",
       "1      1314.0       healthcare python streaming application demo   \n",
       "2      1429.0         use deep learning for image classification   \n",
       "3      1338.0          ml optimization using cognitive assistant   \n",
       "4      1276.0          deploy your python model as a restful api   \n",
       "\n",
       "                                      email  \n",
       "0  ef5f11f77ba020cd36e1105a00ab868bbdbf7fe7  \n",
       "1  083cbdfa93c8444beaa4c5f5e0f5f9198e4f9e0b  \n",
       "2  b96a4f2e92d8572034b1e9b28f9ac673765cd074  \n",
       "3  06485706b34a5c9bf2a0ecdac41daf7e7654ceb7  \n",
       "4  f01220c46fc92c6e6b161b1849de11faacd7ccb2  "
      ]
     },
     "execution_count": 128,
     "metadata": {},
     "output_type": "execute_result"
    }
   ],
   "source": [
    "import pandas as pd\n",
    "import numpy as np\n",
    "import matplotlib.pyplot as plt\n",
    "import project_tests as t\n",
    "import pickle\n",
    "import justext\n",
    "import os\n",
    "import openai\n",
    "import torch\n",
    "from transformers import GPT2Tokenizer\n",
    "import json\n",
    "\n",
    "%matplotlib inline\n",
    "\n",
    "df = pd.read_csv('data/user-item-interactions.csv')\n",
    "df_content = pd.read_csv('data/articles_community.csv')\n",
    "del df['Unnamed: 0']\n",
    "del df_content['Unnamed: 0']\n",
    "\n",
    "# Show df to get an idea of the data\n",
    "df.head()"
   ]
  },
  {
   "cell_type": "code",
   "execution_count": 129,
   "metadata": {
    "collapsed": true
   },
   "outputs": [
    {
     "data": {
      "text/html": [
       "<div>\n",
       "<style scoped>\n",
       "    .dataframe tbody tr th:only-of-type {\n",
       "        vertical-align: middle;\n",
       "    }\n",
       "\n",
       "    .dataframe tbody tr th {\n",
       "        vertical-align: top;\n",
       "    }\n",
       "\n",
       "    .dataframe thead th {\n",
       "        text-align: right;\n",
       "    }\n",
       "</style>\n",
       "<table border=\"1\" class=\"dataframe\">\n",
       "  <thead>\n",
       "    <tr style=\"text-align: right;\">\n",
       "      <th></th>\n",
       "      <th>doc_body</th>\n",
       "      <th>doc_description</th>\n",
       "      <th>doc_full_name</th>\n",
       "      <th>doc_status</th>\n",
       "      <th>article_id</th>\n",
       "    </tr>\n",
       "  </thead>\n",
       "  <tbody>\n",
       "    <tr>\n",
       "      <th>0</th>\n",
       "      <td>Skip navigation Sign in SearchLoading...\\r\\n\\r...</td>\n",
       "      <td>Detect bad readings in real time using Python ...</td>\n",
       "      <td>Detect Malfunctioning IoT Sensors with Streami...</td>\n",
       "      <td>Live</td>\n",
       "      <td>0</td>\n",
       "    </tr>\n",
       "    <tr>\n",
       "      <th>1</th>\n",
       "      <td>No Free Hunch Navigation * kaggle.com\\r\\n\\r\\n ...</td>\n",
       "      <td>See the forest, see the trees. Here lies the c...</td>\n",
       "      <td>Communicating data science: A guide to present...</td>\n",
       "      <td>Live</td>\n",
       "      <td>1</td>\n",
       "    </tr>\n",
       "    <tr>\n",
       "      <th>2</th>\n",
       "      <td>☰ * Login\\r\\n * Sign Up\\r\\n\\r\\n * Learning Pat...</td>\n",
       "      <td>Here’s this week’s news in Data Science and Bi...</td>\n",
       "      <td>This Week in Data Science (April 18, 2017)</td>\n",
       "      <td>Live</td>\n",
       "      <td>2</td>\n",
       "    </tr>\n",
       "    <tr>\n",
       "      <th>3</th>\n",
       "      <td>DATALAYER: HIGH THROUGHPUT, LOW LATENCY AT SCA...</td>\n",
       "      <td>Learn how distributed DBs solve the problem of...</td>\n",
       "      <td>DataLayer Conference: Boost the performance of...</td>\n",
       "      <td>Live</td>\n",
       "      <td>3</td>\n",
       "    </tr>\n",
       "    <tr>\n",
       "      <th>4</th>\n",
       "      <td>Skip navigation Sign in SearchLoading...\\r\\n\\r...</td>\n",
       "      <td>This video demonstrates the power of IBM DataS...</td>\n",
       "      <td>Analyze NY Restaurant data using Spark in DSX</td>\n",
       "      <td>Live</td>\n",
       "      <td>4</td>\n",
       "    </tr>\n",
       "  </tbody>\n",
       "</table>\n",
       "</div>"
      ],
      "text/plain": [
       "                                            doc_body  \\\n",
       "0  Skip navigation Sign in SearchLoading...\\r\\n\\r...   \n",
       "1  No Free Hunch Navigation * kaggle.com\\r\\n\\r\\n ...   \n",
       "2  ☰ * Login\\r\\n * Sign Up\\r\\n\\r\\n * Learning Pat...   \n",
       "3  DATALAYER: HIGH THROUGHPUT, LOW LATENCY AT SCA...   \n",
       "4  Skip navigation Sign in SearchLoading...\\r\\n\\r...   \n",
       "\n",
       "                                     doc_description  \\\n",
       "0  Detect bad readings in real time using Python ...   \n",
       "1  See the forest, see the trees. Here lies the c...   \n",
       "2  Here’s this week’s news in Data Science and Bi...   \n",
       "3  Learn how distributed DBs solve the problem of...   \n",
       "4  This video demonstrates the power of IBM DataS...   \n",
       "\n",
       "                                       doc_full_name doc_status  article_id  \n",
       "0  Detect Malfunctioning IoT Sensors with Streami...       Live           0  \n",
       "1  Communicating data science: A guide to present...       Live           1  \n",
       "2         This Week in Data Science (April 18, 2017)       Live           2  \n",
       "3  DataLayer Conference: Boost the performance of...       Live           3  \n",
       "4      Analyze NY Restaurant data using Spark in DSX       Live           4  "
      ]
     },
     "execution_count": 129,
     "metadata": {},
     "output_type": "execute_result"
    }
   ],
   "source": [
    "# Show df_content to get an idea of the data\n",
    "df_content.head()"
   ]
  },
  {
   "cell_type": "markdown",
   "metadata": {},
   "source": [
    "### <a class=\"anchor\" id=\"Exploratory-Data-Analysis\">Part I : Exploratory Data Analysis</a>\n",
    "\n",
    "Use the dictionary and cells below to provide some insight into the descriptive statistics of the data.\n",
    "\n",
    "`1.` What is the distribution of how many articles a user interacts with in the dataset?  Provide a visual and descriptive statistics to assist with giving a look at the number of times each user interacts with an article.  "
   ]
  },
  {
   "cell_type": "code",
   "execution_count": 130,
   "metadata": {},
   "outputs": [
    {
     "name": "stdout",
     "output_type": "stream",
     "text": [
      "There are 5148 unique users in our dataset.\n",
      "There exist 714 unique articles in the `df` dataframe.\n",
      "There exist 1051 unique articles in the `df_content` dataframe.\n"
     ]
    }
   ],
   "source": [
    "# Print some general statistics about the data\n",
    "n_usr = df[\"email\"].dropna(axis=\"rows\").unique().shape[0]\n",
    "\n",
    "# Number of articles in `df`\n",
    "num_art_df = df[\"article_id\"].unique().shape[0]\n",
    "\n",
    "# Number of articles in `df_content`\n",
    "num_art_dfcnt = df_content[\"article_id\"].unique().shape[0]\n",
    "\n",
    "print(f\"There are {n_usr} unique users in our dataset.\")\n",
    "print(f\"There exist {num_art_df} unique articles in the `df` dataframe.\")\n",
    "print(f\"There exist {num_art_dfcnt} unique articles in the `df_content` dataframe.\")"
   ]
  },
  {
   "cell_type": "code",
   "execution_count": 131,
   "metadata": {},
   "outputs": [],
   "source": [
    "# Get number of interactions for each user (identified by hased email)\n",
    "# using `value_counts`\n",
    "usr_interacts = df[\"email\"].value_counts()"
   ]
  },
  {
   "cell_type": "code",
   "execution_count": 132,
   "metadata": {},
   "outputs": [],
   "source": [
    "# Fill in the median and maximum number of user_article interactios below\n",
    "\n",
    "median_val = np.median(usr_interacts.values)# 50% of individuals interact with ____ number of articles or fewer.\n",
    "max_views_by_user = np.max(usr_interacts.values)# The maximum number of user-article interactions by any 1 user is ______."
   ]
  },
  {
   "cell_type": "code",
   "execution_count": 133,
   "metadata": {},
   "outputs": [
    {
     "data": {
      "image/png": "[encoded data removed]",
      "text/plain": [
       "<Figure size 640x480 with 1 Axes>"
      ]
     },
     "metadata": {},
     "output_type": "display_data"
    }
   ],
   "source": [
    "# Plot the distribution of interactions\n",
    "\n",
    "# Create bin edges for histogram\n",
    "plt.hist(usr_interacts.values, bins=100)\n",
    "plt.ylabel(\"Frequency\")\n",
    "plt.xlabel(\"Number of interactions per user\")\n",
    "plt.show()"
   ]
  },
  {
   "attachments": {},
   "cell_type": "markdown",
   "metadata": {},
   "source": [
    "We see the distribution is exponentially falling, with most users only interacting with a few articles. We re-do the same plot using a logarithmic scale to see the tail of the distribution a bit better and add some more information. We also rescale the x axis to not show the outlier at the maximum interaction value (above 350):"
   ]
  },
  {
   "cell_type": "code",
   "execution_count": 134,
   "metadata": {},
   "outputs": [
    {
     "data": {
      "image/png": "[encoded data removed]",
      "text/plain": [
       "<Figure size 640x480 with 1 Axes>"
      ]
     },
     "metadata": {},
     "output_type": "display_data"
    }
   ],
   "source": [
    "# Get 25% and 75% quartiles\n",
    "lower_quart = np.quantile(usr_interacts.values, 0.25)\n",
    "upper_quart = np.quantile(usr_interacts.values, 0.75)\n",
    "\n",
    "# Re-do plot with added information and re-scaled axes\n",
    "nhist, _, _ = plt.hist(usr_interacts.values, bins=100)\n",
    "plt.plot([lower_quart, lower_quart], [0, np.max(nhist)*2], color=\"green\",\n",
    "         linestyle=\"dashed\", label=f\"lower quartile={lower_quart}\")\n",
    "plt.plot([median_val, median_val], [0, np.max(nhist)*2], color=\"orange\",\n",
    "         linestyle=\"dashed\", label=f\"median={median_val}\")\n",
    "plt.plot([upper_quart, upper_quart], [0, np.max(nhist)*2], color=\"red\",\n",
    "         linestyle=\"dashed\", label=f\"upper quartile={upper_quart}\")\n",
    "plt.ylabel(\"Frequency\")\n",
    "plt.xlabel(\"Number of interactions per user\")\n",
    "plt.yscale(\"log\")\n",
    "plt.ylim(5e-1, None)\n",
    "plt.xlim(0,200)\n",
    "plt.legend(loc=\"upper right\")\n",
    "plt.show()"
   ]
  },
  {
   "cell_type": "code",
   "execution_count": 135,
   "metadata": {},
   "outputs": [],
   "source": [
    "# In order to conduct some exploratory data analysis, we create our \"user-item matrix\"\n",
    "# This matrix has a 1 where a user (identified by a hash of their e-mail address) accessed the resprective article (identified)"
   ]
  },
  {
   "cell_type": "code",
   "execution_count": 136,
   "metadata": {
    "collapsed": true
   },
   "outputs": [],
   "source": [
    "#df.groupby([\"email\", \"article_id\"])[\"value\"].max().unstack()"
   ]
  },
  {
   "cell_type": "markdown",
   "metadata": {},
   "source": [
    "`2.` Explore and remove duplicate articles from the **df_content** dataframe.  "
   ]
  },
  {
   "cell_type": "code",
   "execution_count": 137,
   "metadata": {
    "collapsed": true
   },
   "outputs": [
    {
     "name": "stdout",
     "output_type": "stream",
     "text": [
      "Number of duplicate articles: 5\n",
      "Number of all articles: 1056\n"
     ]
    }
   ],
   "source": [
    "# Find and explore duplicate articles\n",
    "num_articles = df_content[\"article_id\"].value_counts()\n",
    "print(f\"Number of duplicate articles: {(num_articles.values > 1).sum()}\")\n",
    "print(f\"Number of all articles: {df_content.shape[0]}\")"
   ]
  },
  {
   "cell_type": "code",
   "execution_count": 138,
   "metadata": {
    "collapsed": true
   },
   "outputs": [],
   "source": [
    "# Remove any rows that have the same article_id - only keep the first\n",
    "df_content = df_content.drop_duplicates(subset=[\"article_id\"])"
   ]
  },
  {
   "cell_type": "code",
   "execution_count": 139,
   "metadata": {},
   "outputs": [
    {
     "name": "stdout",
     "output_type": "stream",
     "text": [
      "['Live']\n"
     ]
    }
   ],
   "source": [
    "# Possible valies for status\n",
    "status_types = df_content[\"doc_status\"].unique()\n",
    "print(status_types)"
   ]
  },
  {
   "cell_type": "markdown",
   "metadata": {},
   "source": [
    "`3.` Use the cells below to find:\n",
    "\n",
    "**a.** The number of unique articles that have an interaction with a user.  \n",
    "**b.** The number of unique articles in the dataset (whether they have any interactions or not).<br>\n",
    "**c.** The number of unique users in the dataset. (excluding null values) <br>\n",
    "**d.** The number of user-article interactions in the dataset."
   ]
  },
  {
   "cell_type": "code",
   "execution_count": 140,
   "metadata": {
    "collapsed": true
   },
   "outputs": [
    {
     "name": "stdout",
     "output_type": "stream",
     "text": [
      "In our data, there exist:\n",
      "714 unique articles that have at least one interaction.\n",
      "1051 unique articles on the IBM platform.\n",
      "5148 unique users.\n",
      "45993 user-article interactions.\n"
     ]
    }
   ],
   "source": [
    "unique_articles = num_art_df # The number of unique articles that have at least one interaction\n",
    "total_articles = num_art_dfcnt # The number of unique articles on the IBM platform\n",
    "unique_users = n_usr # The number of unique users\n",
    "user_article_interactions = df.shape[0] # The number of user-article interactions\n",
    "\n",
    "print(\"In our data, there exist:\")\n",
    "print(f\"{unique_articles} unique articles that have at least one interaction.\")\n",
    "print(f\"{total_articles} unique articles on the IBM platform.\")\n",
    "print(f\"{unique_users} unique users.\")\n",
    "print(f\"{user_article_interactions} user-article interactions.\")"
   ]
  },
  {
   "cell_type": "markdown",
   "metadata": {},
   "source": [
    "`4.` Use the cells below to find the most viewed **article_id**, as well as how often it was viewed.  After talking to the company leaders, the `email_mapper` function was deemed a reasonable way to map users to ids.  There were a small number of null values, and it was found that all of these null values likely belonged to a single user (which is how they are stored using the function below)."
   ]
  },
  {
   "cell_type": "code",
   "execution_count": 141,
   "metadata": {
    "collapsed": true
   },
   "outputs": [
    {
     "name": "stdout",
     "output_type": "stream",
     "text": [
      "The most viewed article in the dataset is 1429.0 with 937 views.\n"
     ]
    }
   ],
   "source": [
    "unique_art_ids, unique_art_counts = np.unique(df[\"article_id\"], return_counts=True)\n",
    "\n",
    "most_viewed_article_id = f\"{unique_art_ids[np.argmax(unique_art_counts)]:.1f}\" # The most viewed article in the dataset as a string with one value following the decimal \n",
    "max_views = np.max(unique_art_counts) # The most viewed article in the dataset was viewed how many times?\n",
    "\n",
    "print(f\"The most viewed article in the dataset is {most_viewed_article_id} with {max_views} views.\")"
   ]
  },
  {
   "cell_type": "code",
   "execution_count": 142,
   "metadata": {
    "collapsed": true
   },
   "outputs": [
    {
     "data": {
      "text/html": [
       "<div>\n",
       "<style scoped>\n",
       "    .dataframe tbody tr th:only-of-type {\n",
       "        vertical-align: middle;\n",
       "    }\n",
       "\n",
       "    .dataframe tbody tr th {\n",
       "        vertical-align: top;\n",
       "    }\n",
       "\n",
       "    .dataframe thead th {\n",
       "        text-align: right;\n",
       "    }\n",
       "</style>\n",
       "<table border=\"1\" class=\"dataframe\">\n",
       "  <thead>\n",
       "    <tr style=\"text-align: right;\">\n",
       "      <th></th>\n",
       "      <th>article_id</th>\n",
       "      <th>title</th>\n",
       "      <th>user_id</th>\n",
       "    </tr>\n",
       "  </thead>\n",
       "  <tbody>\n",
       "    <tr>\n",
       "      <th>0</th>\n",
       "      <td>1430.0</td>\n",
       "      <td>using pixiedust for fast, flexible, and easier...</td>\n",
       "      <td>1</td>\n",
       "    </tr>\n",
       "    <tr>\n",
       "      <th>1</th>\n",
       "      <td>1314.0</td>\n",
       "      <td>healthcare python streaming application demo</td>\n",
       "      <td>2</td>\n",
       "    </tr>\n",
       "    <tr>\n",
       "      <th>2</th>\n",
       "      <td>1429.0</td>\n",
       "      <td>use deep learning for image classification</td>\n",
       "      <td>3</td>\n",
       "    </tr>\n",
       "    <tr>\n",
       "      <th>3</th>\n",
       "      <td>1338.0</td>\n",
       "      <td>ml optimization using cognitive assistant</td>\n",
       "      <td>4</td>\n",
       "    </tr>\n",
       "    <tr>\n",
       "      <th>4</th>\n",
       "      <td>1276.0</td>\n",
       "      <td>deploy your python model as a restful api</td>\n",
       "      <td>5</td>\n",
       "    </tr>\n",
       "  </tbody>\n",
       "</table>\n",
       "</div>"
      ],
      "text/plain": [
       "   article_id                                              title  user_id\n",
       "0      1430.0  using pixiedust for fast, flexible, and easier...        1\n",
       "1      1314.0       healthcare python streaming application demo        2\n",
       "2      1429.0         use deep learning for image classification        3\n",
       "3      1338.0          ml optimization using cognitive assistant        4\n",
       "4      1276.0          deploy your python model as a restful api        5"
      ]
     },
     "execution_count": 142,
     "metadata": {},
     "output_type": "execute_result"
    }
   ],
   "source": [
    "## No need to change the code here - this will be helpful for later parts of the notebook\n",
    "# Run this cell to map the user email to a user_id column and remove the email column\n",
    "\n",
    "def email_mapper():\n",
    "    coded_dict = dict()\n",
    "    cter = 1\n",
    "    email_encoded = []\n",
    "    \n",
    "    for val in df['email']:\n",
    "        if val not in coded_dict:\n",
    "            coded_dict[val] = cter\n",
    "            cter+=1\n",
    "        \n",
    "        email_encoded.append(coded_dict[val])\n",
    "    return email_encoded\n",
    "\n",
    "email_encoded = email_mapper()\n",
    "del df['email']\n",
    "df['user_id'] = email_encoded\n",
    "\n",
    "# show header\n",
    "df.head()"
   ]
  },
  {
   "cell_type": "code",
   "execution_count": 143,
   "metadata": {},
   "outputs": [
    {
     "data": {
      "text/plain": [
       "dtype('float64')"
      ]
     },
     "execution_count": 143,
     "metadata": {},
     "output_type": "execute_result"
    }
   ],
   "source": [
    "df[\"article_id\"].dtype"
   ]
  },
  {
   "cell_type": "code",
   "execution_count": 144,
   "metadata": {},
   "outputs": [],
   "source": [
    "# It doesn't really make sense but we need to sting-encode the article_id\n",
    "# column in order to pass later assertions by udacity\n",
    "df[\"article_id\"] = df[\"article_id\"].astype(str)"
   ]
  },
  {
   "cell_type": "code",
   "execution_count": 145,
   "metadata": {
    "collapsed": true
   },
   "outputs": [
    {
     "name": "stdout",
     "output_type": "stream",
     "text": [
      "It looks like you have everything right here! Nice job!\n"
     ]
    }
   ],
   "source": [
    "## If you stored all your results in the variable names above, \n",
    "## you shouldn't need to change anything in this cell\n",
    "\n",
    "sol_1_dict = {\n",
    "    '`50% of individuals have _____ or fewer interactions.`': median_val,\n",
    "    '`The total number of user-article interactions in the dataset is ______.`': user_article_interactions,\n",
    "    '`The maximum number of user-article interactions by any 1 user is ______.`': max_views_by_user,\n",
    "    '`The most viewed article in the dataset was viewed _____ times.`': max_views,\n",
    "    '`The article_id of the most viewed article is ______.`': most_viewed_article_id,\n",
    "    '`The number of unique articles that have at least 1 rating ______.`': unique_articles,\n",
    "    '`The number of unique users in the dataset is ______`': unique_users,\n",
    "    '`The number of unique articles on the IBM platform`': total_articles\n",
    "}\n",
    "\n",
    "# Test your dictionary against the solution\n",
    "t.sol_1_test(sol_1_dict)"
   ]
  },
  {
   "cell_type": "markdown",
   "metadata": {},
   "source": [
    "### <a class=\"anchor\" id=\"Rank\">Part II: Rank-Based Recommendations</a>\n",
    "\n",
    "Unlike in the earlier lessons, we don't actually have ratings for whether a user liked an article or not.  We only know that a user has interacted with an article.  In these cases, the popularity of an article can really only be based on how often an article was interacted with.\n",
    "\n",
    "`1.` Fill in the function below to return the **n** top articles ordered with most interactions as the top. Test your function using the tests below."
   ]
  },
  {
   "cell_type": "code",
   "execution_count": 146,
   "metadata": {},
   "outputs": [
    {
     "data": {
      "text/plain": [
       "int"
      ]
     },
     "execution_count": 146,
     "metadata": {},
     "output_type": "execute_result"
    }
   ],
   "source": [
    "type(df[\"article_id\"].unique().shape[0])"
   ]
  },
  {
   "cell_type": "code",
   "execution_count": 147,
   "metadata": {
    "collapsed": true
   },
   "outputs": [],
   "source": [
    "def get_top_article_ids(n, df=df):\n",
    "    '''\n",
    "    INPUT:\n",
    "    n - (int) the number of top articles to return\n",
    "    df - (pandas dataframe) df as defined at the top of the notebook \n",
    "    \n",
    "    OUTPUT:\n",
    "    top_articles - (list) A list of the top 'n' article titles \n",
    "    \n",
    "    '''\n",
    "    \n",
    "    unique_art_ids, unique_art_counts = np.unique(df[\"article_id\"],\n",
    "                                                  return_counts=True)\n",
    "    \n",
    "    if n == \"max\":\n",
    "        n = unique_art_ids.shape[0] \n",
    "    \n",
    "    top_articles = unique_art_ids[np.argsort(unique_art_counts)[::-1]][:n]\n",
    "\n",
    "    return top_articles.tolist() # Return the top article ids\n",
    "\n",
    "def get_top_articles(n, df=df):\n",
    "    '''\n",
    "    INPUT:\n",
    "    n - (int) the number of top articles to return\n",
    "    df - (pandas dataframe) df as defined at the top of the notebook \n",
    "    \n",
    "    OUTPUT:\n",
    "    top_articles - (list) A list of the top 'n' article titles \n",
    "    \n",
    "    '''\n",
    "    top_article_ids = get_top_article_ids(n, df=df)\n",
    "    top_articles = df[\"title\"][df[\"article_id\"].isin(top_article_ids)].unique()\n",
    "    \n",
    "    return top_articles.tolist()"
   ]
  },
  {
   "cell_type": "code",
   "execution_count": 148,
   "metadata": {
    "collapsed": true
   },
   "outputs": [
    {
     "name": "stdout",
     "output_type": "stream",
     "text": [
      "['healthcare python streaming application demo', 'use deep learning for image classification', 'apache spark lab, part 1: basic concepts', 'predicting churn with the spss random tree algorithm', 'analyze energy consumption in buildings', 'visualize car data with brunel', 'use xgboost, scikit-learn & ibm watson machine learning apis', 'gosales transactions for logistic regression model', 'insights from new york car accident reports', 'finding optimal locations of new store using decision optimization']\n",
      "['1429.0', '1330.0', '1431.0', '1427.0', '1364.0', '1314.0', '1293.0', '1170.0', '1162.0', '1304.0']\n"
     ]
    }
   ],
   "source": [
    "print(get_top_articles(10))\n",
    "print(get_top_article_ids(10))"
   ]
  },
  {
   "cell_type": "code",
   "execution_count": 149,
   "metadata": {
    "collapsed": true
   },
   "outputs": [
    {
     "name": "stdout",
     "output_type": "stream",
     "text": [
      "Your top_5 looks like the solution list! Nice job.\n",
      "Your top_10 looks like the solution list! Nice job.\n",
      "Your top_20 looks like the solution list! Nice job.\n"
     ]
    }
   ],
   "source": [
    "# Test your function by returning the top 5, 10, and 20 articles\n",
    "top_5 = get_top_articles(5)\n",
    "top_10 = get_top_articles(10)\n",
    "top_20 = get_top_articles(20)\n",
    "\n",
    "# Test each of your three lists from above\n",
    "t.sol_2_test(get_top_articles)"
   ]
  },
  {
   "cell_type": "markdown",
   "metadata": {},
   "source": [
    "### <a class=\"anchor\" id=\"User-User\">Part III: User-User Based Collaborative Filtering</a>\n",
    "\n",
    "\n",
    "`1.` Use the function below to reformat the **df** dataframe to be shaped with users as the rows and articles as the columns.  \n",
    "\n",
    "* Each **user** should only appear in each **row** once.\n",
    "\n",
    "\n",
    "* Each **article** should only show up in one **column**.  \n",
    "\n",
    "\n",
    "* **If a user has interacted with an article, then place a 1 where the user-row meets for that article-column**.  It does not matter how many times a user has interacted with the article, all entries where a user has interacted with an article should be a 1.  \n",
    "\n",
    "\n",
    "* **If a user has not interacted with an item, then place a zero where the user-row meets for that article-column**. \n",
    "\n",
    "Use the tests to make sure the basic structure of your matrix matches what is expected by the solution."
   ]
  },
  {
   "cell_type": "code",
   "execution_count": 150,
   "metadata": {
    "collapsed": true
   },
   "outputs": [],
   "source": [
    "# create the user-article matrix with 1's and 0's\n",
    "\n",
    "def create_user_item_matrix(df):\n",
    "    '''\n",
    "    INPUT:\n",
    "    df - pandas dataframe with article_id, title, user_id columns\n",
    "    \n",
    "    OUTPUT:\n",
    "    user_item - user item matrix \n",
    "    \n",
    "    Description:\n",
    "    Return a matrix with user ids as rows and article ids on the columns with 1 values where a user interacted with \n",
    "    an article and a 0 otherwise\n",
    "    '''\n",
    "    # Create new column \"value\" that is 1 for all entries\n",
    "    df_copy = df.copy()\n",
    "    df_copy.loc[:, \"value\"] = 1\n",
    "    \n",
    "    user_item = df_copy.groupby([\"user_id\", \"article_id\"])[\"value\"].max().unstack()\n",
    "    user_item = user_item.fillna(0)\n",
    "    \n",
    "    return user_item # return the user_item matrix \n",
    "\n",
    "user_item = create_user_item_matrix(df)"
   ]
  },
  {
   "cell_type": "code",
   "execution_count": 151,
   "metadata": {
    "collapsed": true
   },
   "outputs": [
    {
     "name": "stdout",
     "output_type": "stream",
     "text": [
      "You have passed our quick tests!  Please proceed!\n"
     ]
    }
   ],
   "source": [
    "## Tests: You should just need to run this cell.  Don't change the code.\n",
    "assert user_item.shape[0] == 5149, \"Oops!  The number of users in the user-article matrix doesn't look right.\"\n",
    "assert user_item.shape[1] == 714, \"Oops!  The number of articles in the user-article matrix doesn't look right.\"\n",
    "assert user_item.sum(axis=1)[1] == 36, \"Oops!  The number of articles seen by user 1 doesn't look right.\"\n",
    "print(\"You have passed our quick tests!  Please proceed!\")"
   ]
  },
  {
   "cell_type": "markdown",
   "metadata": {},
   "source": [
    "`2.` Complete the function below which should take a user_id and provide an ordered list of the most similar users to that user (from most similar to least similar).  The returned result should not contain the provided user_id, as we know that each user is similar to him/herself. Because the results for each user here are binary, it (perhaps) makes sense to compute similarity as the dot product of two users. \n",
    "\n",
    "Use the tests to test your function."
   ]
  },
  {
   "cell_type": "code",
   "execution_count": 152,
   "metadata": {
    "collapsed": true
   },
   "outputs": [],
   "source": [
    "def get_usr_usr_importance(user_id, user_item=user_item):\n",
    "    '''\n",
    "    INPUT:\n",
    "    user_id - (int) a user_id\n",
    "    user_item - (pandas dataframe) matrix of users by articles: \n",
    "                1's when a user has interacted with an article, 0 otherwise\n",
    "    \n",
    "    OUTPUT:\n",
    "    importance - (int) the importance of the user to the user-item matrix\n",
    "    \n",
    "    Description:\n",
    "    Computes the importance of a user to the user-item matrix\n",
    "    The importance is the number of articles the user has interacted with\n",
    "    '''\n",
    "    \n",
    "    # compute similarity of each user to the provided user\n",
    "    tmp_usr = user_item.loc[user_id].values.reshape(-1, 1)\n",
    "    # remove the own user's id\n",
    "    other_usrs_df = user_item.drop(index=user_id)\n",
    "    other_usrs = other_usrs_df.values\n",
    "    importance = np.dot(other_usrs, tmp_usr).flatten()\n",
    "\n",
    "    return importance.tolist()\n",
    "\n",
    "def find_similar_users(user_id, user_item=user_item):\n",
    "    '''\n",
    "    INPUT:\n",
    "    user_id - (int) a user_id\n",
    "    user_item - (pandas dataframe) matrix of users by articles: \n",
    "                1's when a user has interacted with an article, 0 otherwise\n",
    "    \n",
    "    OUTPUT:\n",
    "    similar_users - (list) an ordered list where the closest users (largest dot product users)\n",
    "                    are listed first\n",
    "    \n",
    "    Description:\n",
    "    Computes the similarity of every pair of users based on the dot product\n",
    "    Returns an ordered\n",
    "    \n",
    "    '''\n",
    "    other_usrs_df = user_item.drop(index=user_id)\n",
    "    most_important = get_usr_usr_importance(user_id, user_item=user_item)\n",
    "\n",
    "    # sort by similarity and create list of just the ids\n",
    "    most_similar_users = other_usrs_df.index[np.argsort(most_important)[::-1]].to_list()\n",
    "\n",
    "    return most_similar_users # return a list of the users in order from most to least similar\n"
   ]
  },
  {
   "cell_type": "code",
   "execution_count": 153,
   "metadata": {
    "collapsed": true
   },
   "outputs": [
    {
     "name": "stdout",
     "output_type": "stream",
     "text": [
      "The 10 most similar users to user 1 are: [3933, 23, 3782, 203, 4459, 3870, 131, 4201, 46, 3697]\n",
      "The 5 most similar users to user 3933 are: [1, 3782, 23, 203, 4459]\n",
      "The 3 most similar users to user 46 are: [4201, 3782, 23]\n"
     ]
    }
   ],
   "source": [
    "# Do a spot check of your function\n",
    "print(\"The 10 most similar users to user 1 are: {}\".format(find_similar_users(1)[:10]))\n",
    "print(\"The 5 most similar users to user 3933 are: {}\".format(find_similar_users(3933)[:5]))\n",
    "print(\"The 3 most similar users to user 46 are: {}\".format(find_similar_users(46)[:3]))"
   ]
  },
  {
   "cell_type": "markdown",
   "metadata": {},
   "source": [
    "`3.` Now that you have a function that provides the most similar users to each user, you will want to use these users to find articles you can recommend.  Complete the functions below to return the articles you would recommend to each user. "
   ]
  },
  {
   "cell_type": "code",
   "execution_count": 154,
   "metadata": {
    "collapsed": true
   },
   "outputs": [],
   "source": [
    "def get_article_names(article_ids, df=df):\n",
    "    '''\n",
    "    INPUT:\n",
    "    article_ids - (list) a list of article ids\n",
    "    df - (pandas dataframe) df as defined at the top of the notebook\n",
    "    \n",
    "    OUTPUT:\n",
    "    article_names - (list) a list of article names associated with the list of article ids \n",
    "                    (this is identified by the title column)\n",
    "    '''\n",
    "    \n",
    "    article_names = df[df[\"article_id\"].isin(article_ids)][\"title\"].unique()\n",
    "    \n",
    "    return article_names.tolist() # Return the article names associated with list of article ids\n",
    "\n",
    "\n",
    "def get_user_articles(user_id, user_item=user_item):\n",
    "    '''\n",
    "    INPUT:\n",
    "    user_id - (int) a user id\n",
    "    user_item - (pandas dataframe) matrix of users by articles: \n",
    "                1's when a user has interacted with an article, 0 otherwise\n",
    "    \n",
    "    OUTPUT:\n",
    "    article_ids - (list) a list of the article ids seen by the user\n",
    "    article_names - (list) a list of article names associated with the list of article ids \n",
    "                    (this is identified by the doc_full_name column in df_content)\n",
    "    \n",
    "    Description:\n",
    "    Provides a list of the article_ids and article titles that have been seen by a user\n",
    "    '''\n",
    "    article_ids = user_item.columns[user_item.loc[user_id]==1].to_list()\n",
    "    article_names = get_article_names(article_ids)\n",
    "    \n",
    "    return article_ids, article_names # return the ids and names\n",
    "\n",
    "\n",
    "def user_user_recs(user_id, m=10, user_item=user_item):\n",
    "    '''\n",
    "    INPUT:\n",
    "    user_id - (int) a user id\n",
    "    m - (int) the number of recommendations you want for the user\n",
    "    \n",
    "    OUTPUT:\n",
    "    recs - (list) a list of recommendations for the user\n",
    "    \n",
    "    Description:\n",
    "    Loops through the users based on closeness to the input user_id\n",
    "    For each user - finds articles the user hasn't seen before and provides them as recs\n",
    "    Does this until m recommendations are found\n",
    "    \n",
    "    Notes:\n",
    "    Users who are the same closeness are chosen arbitrarily as the 'next' user\n",
    "    \n",
    "    For the user where the number of recommended articles starts below m \n",
    "    and ends exceeding m, the last items are chosen arbitrarily\n",
    "    \n",
    "    '''\n",
    "    # Find similar users\n",
    "    similar_users = find_similar_users(user_id, user_item=user_item)\n",
    "    \n",
    "    # Articles that the user has seen before\n",
    "    usr_seen_articles, _ = get_user_articles(user_id, user_item=user_item)\n",
    "    \n",
    "    recs = []\n",
    "    for usr in similar_users:\n",
    "        if len(recs) >= m:\n",
    "            recs = recs[:m]\n",
    "            break\n",
    "        \n",
    "        # Find articles of current similar user\n",
    "        similar_usr_articles, _ = get_user_articles(usr, user_item=user_item)\n",
    "        \n",
    "        # Articles that the similar user has seen before but the user has not\n",
    "        unseen_arts = list(set(similar_usr_articles).difference(usr_seen_articles))\n",
    "        recs += unseen_arts\n",
    "        # remove duplicates\n",
    "        recs = list(dict.fromkeys(recs))\n",
    "        \n",
    "    \n",
    "    return recs # return your recommendations for this user_id    "
   ]
  },
  {
   "cell_type": "code",
   "execution_count": 155,
   "metadata": {
    "collapsed": true
   },
   "outputs": [
    {
     "data": {
      "text/plain": [
       "['ml optimization using cognitive assistant',\n",
       " 'analyze open data sets with pandas dataframes',\n",
       " 'intents & examples for ibm watson conversation',\n",
       " 'leverage python, scikit, and text classification for behavioral profiling',\n",
       " 'insights from new york car accident reports',\n",
       " 'graph-based machine learning',\n",
       " 'apache spark lab, part 2: querying data',\n",
       " 'build a python app on the streaming analytics service',\n",
       " 'using deep learning with keras to predict customer churn',\n",
       " 'what is smote in an imbalanced class setting (e.g. fraud detection)?']"
      ]
     },
     "execution_count": 155,
     "metadata": {},
     "output_type": "execute_result"
    }
   ],
   "source": [
    "# Check Results\n",
    "get_article_names(user_user_recs(1, 10)) # Return 10 recommendations for user 1"
   ]
  },
  {
   "cell_type": "code",
   "execution_count": 156,
   "metadata": {
    "collapsed": true
   },
   "outputs": [
    {
     "name": "stdout",
     "output_type": "stream",
     "text": [
      "If this is all you see, you passed all of our tests!  Nice job!\n"
     ]
    }
   ],
   "source": [
    "# Test your functions here - No need to change this code - just run this cell\n",
    "assert set(get_article_names(['1024.0', '1176.0', '1305.0', '1314.0', '1422.0', '1427.0'])) == set(['using deep learning to reconstruct high-resolution audio', 'build a python app on the streaming analytics service', 'gosales transactions for naive bayes model', 'healthcare python streaming application demo', 'use r dataframes & ibm watson natural language understanding', 'use xgboost, scikit-learn & ibm watson machine learning apis']), \"Oops! Your the get_article_names function doesn't work quite how we expect.\"\n",
    "assert set(get_article_names(['1320.0', '232.0', '844.0'])) == set(['housing (2015): united states demographic measures','self-service data preparation with ibm data refinery','use the cloudant-spark connector in python notebook']), \"Oops! Your the get_article_names function doesn't work quite how we expect.\"\n",
    "assert set(get_user_articles(20)[0]) == set(['1320.0', '232.0', '844.0'])\n",
    "assert set(get_user_articles(20)[1]) == set(['housing (2015): united states demographic measures', 'self-service data preparation with ibm data refinery','use the cloudant-spark connector in python notebook'])\n",
    "assert set(get_user_articles(2)[0]) == set(['1024.0', '1176.0', '1305.0', '1314.0', '1422.0', '1427.0'])\n",
    "assert set(get_user_articles(2)[1]) == set(['using deep learning to reconstruct high-resolution audio', 'build a python app on the streaming analytics service', 'gosales transactions for naive bayes model', 'healthcare python streaming application demo', 'use r dataframes & ibm watson natural language understanding', 'use xgboost, scikit-learn & ibm watson machine learning apis'])\n",
    "print(\"If this is all you see, you passed all of our tests!  Nice job!\")"
   ]
  },
  {
   "cell_type": "markdown",
   "metadata": {},
   "source": [
    "`4.` Now we are going to improve the consistency of the **user_user_recs** function from above.  \n",
    "\n",
    "* Instead of arbitrarily choosing when we obtain users who are all the same closeness to a given user - choose the users that have the most total article interactions before choosing those with fewer article interactions.\n",
    "\n",
    "\n",
    "* Instead of arbitrarily choosing articles from the user where the number of recommended articles starts below m and ends exceeding m, choose articles with the articles with the most total interactions before choosing those with fewer total interactions. This ranking should be  what would be obtained from the **top_articles** function you wrote earlier."
   ]
  },
  {
   "cell_type": "code",
   "execution_count": 157,
   "metadata": {
    "collapsed": true
   },
   "outputs": [],
   "source": [
    "def get_top_sorted_users(user_id, df=df, user_item=user_item):\n",
    "    '''\n",
    "    INPUT:\n",
    "    user_id - (int)\n",
    "    df - (pandas dataframe) df as defined at the top of the notebook \n",
    "    user_item - (pandas dataframe) matrix of users by articles: \n",
    "            1's when a user has interacted with an article, 0 otherwise\n",
    "    \n",
    "            \n",
    "    OUTPUT:\n",
    "    neighbors_df - (pandas dataframe) a dataframe with:\n",
    "                    neighbor_id - is a neighbor user_id\n",
    "                    similarity - measure of the similarity of each user to the provided user_id\n",
    "                    num_interactions - the number of articles viewed by the user - if a user has\n",
    "                    \n",
    "    Other Details - sort the neighbors_df by the similarity and then by number of interactions where \n",
    "                    highest of each is higher in the dataframe\n",
    "     \n",
    "    '''\n",
    "    similar_usrs = find_similar_users(user_id)\n",
    "    similarity = np.array(get_usr_usr_importance(user_id, user_item=user_item))\n",
    "    similarity = similarity[np.argsort(similarity)[::-1]]\n",
    "    # remove multiple occurences of the same article in one users interaction\n",
    "    num_interactions = []\n",
    "    for usr in similar_usrs:\n",
    "        tmp_arts = df[df['user_id']==usr]['article_id'].unique().shape[0]\n",
    "        num_interactions.append(tmp_arts)\n",
    "\n",
    "    neighbors_df = pd.DataFrame({'neighbor_id': similar_usrs,\n",
    "                                 'similarity': similarity,\n",
    "                                 'num_interactions': num_interactions})\n",
    "    \n",
    "    neighbors_df = neighbors_df.sort_values(\n",
    "        by=['similarity', 'num_interactions'],\n",
    "        ascending=False\n",
    "        )\n",
    "\n",
    "    return neighbors_df\n",
    "\n",
    "def user_user_recs_part2(user_id, m=10):\n",
    "    '''\n",
    "    INPUT:\n",
    "    user_id - (int) a user id\n",
    "    m - (int) the number of recommendations you want for the user\n",
    "    \n",
    "    OUTPUT:\n",
    "    recs - (list) a list of recommendations for the user by article id\n",
    "    rec_names - (list) a list of recommendations for the user by article title\n",
    "    \n",
    "    Description:\n",
    "    Loops through the users based on closeness to the input user_id\n",
    "    For each user - finds articles the user hasn't seen before and provides them as recs\n",
    "    Does this until m recommendations are found\n",
    "    \n",
    "    Notes:\n",
    "    * Choose the users that have the most total article interactions \n",
    "    before choosing those with fewer article interactions.\n",
    "\n",
    "    * Choose articles with the articles with the most total interactions \n",
    "    before choosing those with fewer total interactions. \n",
    "   \n",
    "    '''\n",
    "    sorted_users = get_top_sorted_users(user_id)\n",
    "    top_articles = get_top_article_ids(\"max\")\n",
    "    \n",
    "    recs = []\n",
    "    for usr in sorted_users[\"neighbor_id\"]:\n",
    "        \n",
    "        # remove articles that the user has already seen\n",
    "        tmp_recs = list(set(get_user_articles(usr)[0]).difference(set(get_user_articles(user_id)[0])))\n",
    "        \n",
    "        # remove articles that are already in the recommendations list\n",
    "        tmp_recs = list(set(tmp_recs).difference(set(recs)))\n",
    "        \n",
    "        if len(recs) + len(tmp_recs) > m:\n",
    "            top_indices = []\n",
    "            for r in tmp_recs:\n",
    "                top_indices.append(top_articles.index(r))\n",
    "\n",
    "            tmp_recs = np.array(tmp_recs)[np.argsort(top_indices)].tolist()\n",
    "            recs += tmp_recs\n",
    "            recs = recs[:m]\n",
    "            break\n",
    "\n",
    "        recs += tmp_recs\n",
    "        \n",
    "    rec_names = get_article_names(recs)\n",
    "\n",
    "    return recs, rec_names"
   ]
  },
  {
   "cell_type": "code",
   "execution_count": 158,
   "metadata": {
    "collapsed": true
   },
   "outputs": [
    {
     "name": "stdout",
     "output_type": "stream",
     "text": [
      "The top 10 recommendations for user 20 are the following article ids:\n",
      "['1429.0', '1330.0', '1314.0', '1293.0', '1162.0', '1271.0', '43.0', '1351.0', '1368.0', '1305.0']\n",
      "\n",
      "The top 10 recommendations for user 20 are the following article names:\n",
      "['healthcare python streaming application demo', 'use deep learning for image classification', 'analyze energy consumption in buildings', 'putting a human face on machine learning', 'gosales transactions for naive bayes model', 'insights from new york car accident reports', 'model bike sharing data with spss', 'finding optimal locations of new store using decision optimization', 'deep learning with tensorflow course by big data university', 'customer demographics and sales']\n"
     ]
    }
   ],
   "source": [
    "# Quick spot check - don't change this code - just use it to test your functions\n",
    "rec_ids, rec_names = user_user_recs_part2(20, 10)\n",
    "print(\"The top 10 recommendations for user 20 are the following article ids:\")\n",
    "print(rec_ids)\n",
    "print()\n",
    "print(\"The top 10 recommendations for user 20 are the following article names:\")\n",
    "print(rec_names)"
   ]
  },
  {
   "cell_type": "markdown",
   "metadata": {},
   "source": [
    "`5.` Use your functions from above to correctly fill in the solutions to the dictionary below.  Then test your dictionary against the solution.  Provide the code you need to answer each following the comments below."
   ]
  },
  {
   "cell_type": "code",
   "execution_count": 159,
   "metadata": {},
   "outputs": [
    {
     "data": {
      "text/plain": [
       "3933.0"
      ]
     },
     "execution_count": 159,
     "metadata": {},
     "output_type": "execute_result"
    }
   ],
   "source": [
    "get_top_sorted_users(1).loc[0][\"neighbor_id\"]"
   ]
  },
  {
   "cell_type": "code",
   "execution_count": 160,
   "metadata": {
    "collapsed": true
   },
   "outputs": [],
   "source": [
    "### Tests with a dictionary of results\n",
    "\n",
    "user1_most_sim = get_top_sorted_users(1).loc[0][\"neighbor_id\"] # Find the user that is most similar to user 1 \n",
    "user131_10th_sim = get_top_sorted_users(131).loc[9][\"neighbor_id\"] # Find the 10th most similar user to user 131"
   ]
  },
  {
   "cell_type": "code",
   "execution_count": 161,
   "metadata": {
    "collapsed": true
   },
   "outputs": [
    {
     "name": "stdout",
     "output_type": "stream",
     "text": [
      "This all looks good!  Nice job!\n"
     ]
    }
   ],
   "source": [
    "## Dictionary Test Here\n",
    "sol_5_dict = {\n",
    "    'The user that is most similar to user 1.': user1_most_sim, \n",
    "    'The user that is the 10th most similar to user 131': user131_10th_sim,\n",
    "}\n",
    "\n",
    "t.sol_5_test(sol_5_dict)"
   ]
  },
  {
   "cell_type": "markdown",
   "metadata": {},
   "source": [
    "`6.` If we were given a new user, which of the above functions would you be able to use to make recommendations?  Explain.  Can you think of a better way we might make recommendations?  Use the cell below to explain a better method for new users."
   ]
  },
  {
   "attachments": {},
   "cell_type": "markdown",
   "metadata": {},
   "source": [
    "For new users, we are faced with the so-called \"cold start problem\", which describes the fact that, since no interaction records of the new user with other users or items exist, we cannot use **any** method based on collaborative filtering. We therefore have to rely on **content based filtering** entirely. The only function above that is entirely content based is the `get_top_articles` function, since it only ranks articles based on the number of unique interactions. This number is independent of the similarity of the new user with other users or items (articles) and therefore we can use it also for entirely new users. "
   ]
  },
  {
   "cell_type": "markdown",
   "metadata": {},
   "source": [
    "`7.` Using your existing functions, provide the top 10 recommended articles you would provide for the a new user below.  You can test your function against our thoughts to make sure we are all on the same page with how we might make a recommendation."
   ]
  },
  {
   "cell_type": "code",
   "execution_count": 162,
   "metadata": {
    "collapsed": true
   },
   "outputs": [],
   "source": [
    "new_user = '0.0'\n",
    "\n",
    "# What would your recommendations be for this new user '0.0'?  As a new user, they have no observed articles.\n",
    "# Provide a list of the top 10 article ids you would give to \n",
    "new_user_recs = get_top_article_ids(10)\n",
    "\n"
   ]
  },
  {
   "cell_type": "code",
   "execution_count": 163,
   "metadata": {
    "collapsed": true
   },
   "outputs": [
    {
     "name": "stdout",
     "output_type": "stream",
     "text": [
      "That's right!  Nice job!\n"
     ]
    }
   ],
   "source": [
    "assert set(new_user_recs) == set(['1314.0','1429.0','1293.0','1427.0','1162.0','1364.0','1304.0','1170.0','1431.0','1330.0']), \"Oops!  It makes sense that in this case we would want to recommend the most popular articles, because we don't know anything about these users.\"\n",
    "\n",
    "print(\"That's right!  Nice job!\")"
   ]
  },
  {
   "cell_type": "markdown",
   "metadata": {},
   "source": [
    "### <a class=\"anchor\" id=\"Content-Recs\">Part IV: Content Based Recommendations (EXTRA - NOT REQUIRED)</a>\n",
    "\n",
    "Another method we might use to make recommendations is to perform a ranking of the highest ranked articles associated with some term.  You might consider content to be the **doc_body**, **doc_description**, or **doc_full_name**.  There isn't one way to create a content based recommendation, especially considering that each of these columns hold content related information.  \n",
    "\n",
    "`1.` Use the function body below to create a content based recommender.  Since there isn't one right answer for this recommendation tactic, no test functions are provided.  Feel free to change the function inputs if you decide you want to try a method that requires more input values.  The input values are currently set with one idea in mind that you may use to make content based recommendations.  One additional idea is that you might want to choose the most popular recommendations that meet your 'content criteria', but again, there is a lot of flexibility in how you might make these recommendations.\n",
    "\n",
    "### This part is NOT REQUIRED to pass this project.  However, you may choose to take this on as an extra way to show off your skills."
   ]
  },
  {
   "cell_type": "code",
   "execution_count": 164,
   "metadata": {},
   "outputs": [
    {
     "data": {
      "text/plain": [
       "'It has never been easier to build AI or machine learning-based systems than it is today. The ubiquity of cutting edge open-source tools such as TensorFlow, Torch, and Spark, coupled with the…'"
      ]
     },
     "execution_count": 164,
     "metadata": {},
     "output_type": "execute_result"
    }
   ],
   "source": [
    "df_content[\"doc_description\"][18]"
   ]
  },
  {
   "cell_type": "code",
   "execution_count": 165,
   "metadata": {},
   "outputs": [
    {
     "name": "stderr",
     "output_type": "stream",
     "text": [
      "[nltk_data] Downloading package wordnet to\n",
      "[nltk_data]     /home/lamprecht/nltk_data...\n",
      "[nltk_data]   Package wordnet is already up-to-date!\n"
     ]
    }
   ],
   "source": [
    "import nltk\n",
    "nltk.download('wordnet')\n",
    "from nltk.tokenize import word_tokenize\n",
    "from nltk.stem import WordNetLemmatizer\n",
    "from nltk.corpus import stopwords\n",
    "import gensim\n",
    "from gensim import corpora\n",
    "from gensim.models.ldamodel import LdaModel\n",
    "from gensim.models.coherencemodel import CoherenceModel\n",
    "from gensim.models import Phrases\n",
    "import re\n",
    "\n",
    "from sklearn.feature_extraction.text import TfidfVectorizer\n",
    "\n",
    "stopwords = set(stopwords.words('english'))"
   ]
  },
  {
   "cell_type": "code",
   "execution_count": 166,
   "metadata": {},
   "outputs": [],
   "source": [
    "def general_preprocessing(tokens):\n",
    "    \n",
    "    # Define a regular expression pattern that matches any non-word characters\n",
    "    pattern = re.compile(r'\\W+')\n",
    "    \n",
    "    # Remove special characters from the tokens\n",
    "    tokens = [pattern.sub('', token) for token in tokens]\n",
    "    \n",
    "    # Remove numbers, but not words that contain numbers\n",
    "    tokens = [token for token in tokens if not token.isnumeric()]\n",
    "    \n",
    "    # Remove words that are only one character\n",
    "    tokens = [token for token in tokens if len(token) > 1]\n",
    "    \n",
    "    lemmatizer = WordNetLemmatizer()\n",
    "\n",
    "    clean_tokens = []\n",
    "    for tok in tokens:\n",
    "        clean_tok = lemmatizer.lemmatize(tok).lower().strip()\n",
    "        if not clean_tok in stopwords:\n",
    "            clean_tokens.append(clean_tok)\n",
    "\n",
    "    return clean_tokens\n",
    "\n",
    "def preprocess_body_text(text):\n",
    "    clean_text = \"\"\n",
    "    paragraphs = justext.justext(text, justext.get_stoplist(\"English\"))\n",
    "    for paragraph in paragraphs:\n",
    "        if not paragraph.is_boilerplate:\n",
    "            clean_text += paragraph.text\n",
    "\n",
    "    tokens = word_tokenize(clean_text)\n",
    "\n",
    "    return general_preprocessing(tokens)\n",
    "\n",
    "def preprocess_summaries(text):\n",
    "\n",
    "    tokens = word_tokenize(text)\n",
    "\n",
    "    return general_preprocessing(tokens)"
   ]
  },
  {
   "attachments": {},
   "cell_type": "markdown",
   "metadata": {},
   "source": [
    "Check for `NaN`s"
   ]
  },
  {
   "cell_type": "code",
   "execution_count": 167,
   "metadata": {},
   "outputs": [
    {
     "name": "stdout",
     "output_type": "stream",
     "text": [
      "There are 14 NaN values in the doc_body column.\n",
      "There are 3 NaN values in the doc_description column.\n",
      "There are 0 NaN values in the doc_full_name column.\n"
     ]
    }
   ],
   "source": [
    "print(f'There are {df_content[\"doc_body\"].isna().sum()} NaN values in the doc_body column.')\n",
    "print(f'There are {df_content[\"doc_description\"].isna().sum()} NaN values in the doc_description column.')\n",
    "print(f'There are {df_content[\"doc_full_name\"].isna().sum()} NaN values in the doc_full_name column.')"
   ]
  },
  {
   "attachments": {},
   "cell_type": "markdown",
   "metadata": {},
   "source": [
    "Replace `NaN`s with whitespace"
   ]
  },
  {
   "cell_type": "code",
   "execution_count": 168,
   "metadata": {},
   "outputs": [],
   "source": [
    "df_content[\"doc_body\"] = df_content[\"doc_body\"].fillna(\".\")\n",
    "df_content[\"doc_description\"] = df_content[\"doc_description\"].fillna(\".\")"
   ]
  },
  {
   "attachments": {},
   "cell_type": "markdown",
   "metadata": {},
   "source": [
    "Preprocess text: remove boilerplate for `doc_body`, tokenize, lemmatize and remove stop words and numbers"
   ]
  },
  {
   "cell_type": "code",
   "execution_count": 169,
   "metadata": {},
   "outputs": [],
   "source": [
    "df_content[\"preprocessed_body\"] = df_content[\"doc_body\"].map(preprocess_body_text, na_action=\"ignore\")\n",
    "df_content[\"preprocessed_description\"] = df_content[\"doc_description\"].map(preprocess_summaries, na_action=\"ignore\")\n",
    "df_content[\"preprocessed_full_name\"] = df_content[\"doc_full_name\"].map(preprocess_summaries, na_action=\"ignore\")\n"
   ]
  },
  {
   "attachments": {},
   "cell_type": "markdown",
   "metadata": {},
   "source": [
    "Create new column containing the cleaned tokens from the text body, description and full name"
   ]
  },
  {
   "cell_type": "code",
   "execution_count": 170,
   "metadata": {},
   "outputs": [],
   "source": [
    "df_content[\"preprocessed_content\"] = df_content[\"preprocessed_body\"] + df_content[\"preprocessed_description\"] + df_content[\"preprocessed_full_name\"]"
   ]
  },
  {
   "attachments": {},
   "cell_type": "markdown",
   "metadata": {},
   "source": [
    "Compute bigrams and add them to the tokens. This will help us to get common combinations of words such as \"machine_learning\" or \"real_time\" in our corpus"
   ]
  },
  {
   "cell_type": "code",
   "execution_count": 171,
   "metadata": {},
   "outputs": [],
   "source": [
    "# Add only bigrams that appear 20 times or more.\n",
    "bigram = Phrases(df_content[\"preprocessed_content\"], min_count=20)\n",
    "for i, doc in enumerate(df_content[\"preprocessed_content\"]):\n",
    "    for token in bigram[doc]:\n",
    "        if '_' in token:\n",
    "            # Token is a bigram, add to document.\n",
    "            doc.append(token)"
   ]
  },
  {
   "attachments": {},
   "cell_type": "markdown",
   "metadata": {},
   "source": [
    "Create corpus from preprocessed content of articles:"
   ]
  },
  {
   "cell_type": "code",
   "execution_count": 172,
   "metadata": {},
   "outputs": [],
   "source": [
    "dictionary = corpora.Dictionary(df_content[\"preprocessed_content\"])\n",
    "\n",
    "# Next, we filter out words that either occur in less\n",
    "# than 20 documents or more than 50% of the documents\n",
    "dictionary.filter_extremes(no_below=20, no_above=0.5)\n",
    "\n",
    "corpus = [dictionary.doc2bow(text) for text in df_content[\"preprocessed_content\"]]"
   ]
  },
  {
   "attachments": {},
   "cell_type": "markdown",
   "metadata": {},
   "source": [
    "Transform into TF-IDF matrix:"
   ]
  },
  {
   "cell_type": "code",
   "execution_count": 173,
   "metadata": {},
   "outputs": [],
   "source": [
    "tfidf = TfidfVectorizer()\n",
    "tfidf_matrix = tfidf.fit_transform(df_content[\"preprocessed_content\"].apply(lambda x: \" \".join(x)))"
   ]
  },
  {
   "attachments": {},
   "cell_type": "markdown",
   "metadata": {},
   "source": [
    "The idea here is to conduct come up with a recommendation for new users based on a blend of two approaches:\n",
    "\n",
    "1.) Use Latent Dirichlet Allocation (LDA) to discover topics in the article text, then recommend top articles from a range of different topics\n",
    "\n",
    "2.) Using a large language model (GPT-3) to find topics/keywords for each article and then do recommendations based on the most popular keywords\n",
    "\n",
    "Let's start with the first step\n",
    "\n",
    "## 1. Using LDA to figure out topics in the article text\n",
    "\n",
    "First, we find out the optimal number of topics using `gensim`'s coherence model. We start from two topics and scan up to eleven possible topics. We look for the maximum coherence score and then take the LDA model based on the number of topics that achieves that score.\n",
    "\n",
    "The maximum coherence score is a good measure of the optimal number of topics because it indicates the level of interpretability and coherence of the topics produced by the LDA model. A higher coherence score means that the topics are more distinct and coherent, with words that are highly associated with each other within a topic and less associated with words in other topics. This makes the topics more useful for our recommendation engine."
   ]
  },
  {
   "cell_type": "code",
   "execution_count": 174,
   "metadata": {},
   "outputs": [
    {
     "name": "stdout",
     "output_type": "stream",
     "text": [
      "The optimal number of topics is 7.\n"
     ]
    }
   ],
   "source": [
    "# we use c_npmi coherence score here, which can range from -inf to 1, so we\n",
    "# set the initial coherence to the lowest possible value\n",
    "current_coherence = -np.inf\n",
    "for n_topics in range(2, 11):\n",
    "    lda_model = LdaModel(corpus=corpus, id2word=dictionary, num_topics=n_topics,\n",
    "                         alpha='auto', eta='auto',\n",
    "                         chunksize=200, passes=20, iterations=400,\n",
    "                         random_state=42, eval_every=None)\n",
    "\n",
    "    coherence_model = CoherenceModel(model=lda_model, texts=df_content[\"preprocessed_content\"],\n",
    "                                     dictionary=dictionary, coherence='c_npmi')\n",
    "    #coherence_scores[n_topics] = coherence_model.get_coherence()\n",
    "    if coherence_model.get_coherence() > current_coherence:\n",
    "        current_coherence = coherence_model.get_coherence()\n",
    "        best_lda_model = lda_model\n",
    "        best_n_topics = n_topics\n",
    "\n",
    "#n_optimal = max(coherence_scores, key=coherence_scores.get)\n",
    "print(\"The optimal number of topics is {}.\".format(best_n_topics))"
   ]
  },
  {
   "attachments": {},
   "cell_type": "markdown",
   "metadata": {},
   "source": [
    "We found that the optimal number of topics is 7. Note that we fixed the random state of our LDA model in this case, which means we didn't take into account any variance of our result due to the random initialization of our model. For this showcase of LDA we are more interested in getting reproducible results, so fixing the seed is fine for now.\n",
    "\n",
    "Next, let's take a look at our topics:"
   ]
  },
  {
   "cell_type": "code",
   "execution_count": 175,
   "metadata": {},
   "outputs": [
    {
     "data": {
      "text/plain": [
       "[(0,\n",
       "  '0.016*\"database\" + 0.013*\"cloudant\" + 0.012*\"application\" + 0.011*\"function\" + 0.009*\"app\" + 0.009*\"document\" + 0.008*\"web\" + 0.008*\"user\" + 0.007*\"file\" + 0.007*\"name\"'),\n",
       " (1,\n",
       "  '0.045*\"model\" + 0.043*\"learning\" + 0.032*\"machine\" + 0.026*\"machine_learning\" + 0.019*\"algorithm\" + 0.013*\"training\" + 0.010*\"set\" + 0.009*\"regression\" + 0.009*\"feature\" + 0.009*\"variable\"'),\n",
       " (2,\n",
       "  '0.046*\"science\" + 0.037*\"data_science\" + 0.021*\"email\" + 0.014*\"week\" + 0.013*\"course\" + 0.011*\"november\" + 0.011*\"june\" + 0.011*\"new\" + 0.011*\"blog\" + 0.011*\"big\"'),\n",
       " (3,\n",
       "  '0.010*\"one\" + 0.009*\"like\" + 0.009*\"time\" + 0.009*\"value\" + 0.007*\"ha\" + 0.007*\"wa\" + 0.007*\"example\" + 0.007*\"process\" + 0.006*\"need\" + 0.005*\"python\"'),\n",
       " (4,\n",
       "  '0.022*\"ibm\" + 0.018*\"analytics\" + 0.017*\"blog\" + 0.013*\"user\" + 0.012*\"business\" + 0.010*\"big\" + 0.009*\"source\" + 0.009*\"system\" + 0.008*\"scientist\" + 0.008*\"data_scientist\"'),\n",
       " (5,\n",
       "  '0.025*\"click\" + 0.019*\"new\" + 0.018*\"spark\" + 0.014*\"email\" + 0.012*\"ibm\" + 0.012*\"window\" + 0.011*\"share\" + 0.011*\"dashdb\" + 0.010*\"opens\" + 0.009*\"cloudant\"'),\n",
       " (6,\n",
       "  '0.033*\"watson\" + 0.028*\"ibm\" + 0.025*\"notebook\" + 0.019*\"data_science\" + 0.018*\"science\" + 0.015*\"platform\" + 0.014*\"ibm_watson\" + 0.013*\"experience\" + 0.013*\"follow\" + 0.012*\"get\"')]"
      ]
     },
     "execution_count": 175,
     "metadata": {},
     "output_type": "execute_result"
    }
   ],
   "source": [
    "best_lda_model.print_topics()"
   ]
  },
  {
   "attachments": {},
   "cell_type": "markdown",
   "metadata": {},
   "source": [
    "We see our seven topics here, as well as the words with the highest significance per topic. We can clearly see that there are differences in the different topics, however, the overlap is still large. Fore example, the bigrams `data_science` and `data_scientist` occur in different topics, so does the word `ibm` etc. Of course, since these articles are from an IBM platform, we expect all of these articles to be in the \"tech\" realm, so we will probably always have *some* overlap. Nevertheless, one could play around with the hyperparamters even more or for example extend the bag-of-words model to also include trigrams.\n",
    "\n",
    "For now, lets go on with this study and assign a topic to each of our articles:"
   ]
  },
  {
   "cell_type": "code",
   "execution_count": 176,
   "metadata": {},
   "outputs": [],
   "source": [
    "# Get topic distribution for each document in the corpus\n",
    "topic_distribution = []\n",
    "for doc in corpus:\n",
    "    doc_topics = best_lda_model.get_document_topics(doc)\n",
    "    topic_distribution.append(doc_topics)"
   ]
  },
  {
   "cell_type": "code",
   "execution_count": 177,
   "metadata": {},
   "outputs": [],
   "source": [
    "# Use topic probabilities to assign a topic to each document\n",
    "topic_assignments = []\n",
    "for doc_topics in topic_distribution:\n",
    "    sorted_topics = sorted(doc_topics, key=lambda x: x[1], reverse=True)\n",
    "    top_topic = sorted_topics[0][0]\n",
    "    topic_assignments.append(top_topic)"
   ]
  },
  {
   "cell_type": "code",
   "execution_count": 178,
   "metadata": {},
   "outputs": [],
   "source": [
    "# Add topic assignments to the dataframe\n",
    "df_content[\"topic\"] = topic_assignments"
   ]
  },
  {
   "attachments": {},
   "cell_type": "markdown",
   "metadata": {},
   "source": [
    "Let's take a look at the topic distribution in our dataset:"
   ]
  },
  {
   "cell_type": "code",
   "execution_count": 179,
   "metadata": {},
   "outputs": [
    {
     "data": {
      "text/plain": [
       "0    324\n",
       "3    166\n",
       "5    141\n",
       "6    137\n",
       "4    118\n",
       "2     91\n",
       "1     74\n",
       "Name: topic, dtype: int64"
      ]
     },
     "execution_count": 179,
     "metadata": {},
     "output_type": "execute_result"
    }
   ],
   "source": [
    "df_content[\"topic\"].value_counts()"
   ]
  },
  {
   "attachments": {},
   "cell_type": "markdown",
   "metadata": {},
   "source": [
    "We can see that none of the topics occurs very rarely. The lowest count is 74 and all the other topics have occurrences in a similar ball park, say, around 150 times. The first topic (index `0`) occurs most frequently, with 324 documents.\n",
    "\n",
    "One difficulty is to interpret the topics here and assign them fitting names or keywords. We could just take the most significant words for each topic, as discussed above, but due to the large overlap between the topics, this will be hard and anyway it is difficult to make sense of them.\n",
    "\n",
    "Nevertheless, we can try to make some observations: We can see that some of the topics are blog posts about specific software. For example, the first topic seems to contain many articles about `cloudant`, which is a NoSQL database service by IBM. One of the most significant words in topic 5 is `spark`, which probably refers to Apache Spark, which is a distributed computing system designed for processing large-scale datasets.\n",
    "\n",
    "The most significant words of the second topic seem to be all about machine learning jargon, so these are probably blog posts about machine learning. The third topic contains both many words referring to time (week, november, june) as well as data science. When skimming through the dataset, I saw something like \"data science weekly\" and I guess most documents from this topic originate there. It's also a newsletter, so \"email\" being amongst the most significant words makes sense as well.\n",
    "\n",
    "Topic five has \"ibm\" \"analytics\" and \"blog\" as most significant words. Looking at other significant words, these seem to be blogs about data science for business analytics. Topic seven has \"watson\" and \"ibm\" as its most significant words, so these are probably blog posts writing about IBM Watson, which is a suite of AI / ML tools and technologies developed by IBM. The most difficult topic to assess is the fourth topic. I was filtering those out and printing some examples of the `\"doc_body\"` column to make sense of them (not included in notebook, but feel free to do the exercise yourself), but I found these are from a variety of sources. Some are from the Kaggle blog \"no free hunch\" others are medium blog posts etc. Maybe the more general category \"tech blog\" would fit here for now.\n",
    "\n",
    "Let's assign some labels for the topic assignments for now and then continue:"
   ]
  },
  {
   "cell_type": "code",
   "execution_count": 181,
   "metadata": {},
   "outputs": [],
   "source": [
    "# Create new column for each topic and assign 1 if the article belongs to that topic:\n",
    "df_content = pd.concat([df_content, pd.get_dummies(df_content[\"topic\"], prefix=\"Topic\")], axis=1)\n",
    "\n",
    "# Rename the columns to make them more readable\n",
    "df_content.rename(columns={\"Topic_0\": \"Topic Cloudant/Databases\",\n",
    "                           \"Topic_1\": \"Topic Machine Learning\",\n",
    "                           \"Topic_2\": \"Topic Data Science/Newsletters\",\n",
    "                           \"Topic_3\": \"Topic Tech Blog\",\n",
    "                           \"Topic_4\": \"Topic IBM business analytics\",\n",
    "                           \"Topic_5\": \"Topic Apache Spark\",\n",
    "                           \"Topic_6\": \"Topic IBM Watson\"}, inplace=True)"
   ]
  },
  {
   "attachments": {},
   "cell_type": "markdown",
   "metadata": {},
   "source": [
    "## 2.) Use Large Language Model (LLM) to get five keywords describing each of the articles\n",
    "\n",
    "**NOTE:** For this part you'll need your own openAI API key and set it as an environment variable **OR** you simply load the results that I acquired myself using my own API key. See the comments in the below code cells for more details"
   ]
  },
  {
   "cell_type": "code",
   "execution_count": 183,
   "metadata": {},
   "outputs": [],
   "source": [
    "def get_cropped_prompt(doc):\n",
    "    # get initial number of tokens\n",
    "    prompt = (\"Here is a web article/blog post, give me 5 keywords, each keyword on a new line, that describe what the article is about\"\n",
    "              f\"\\n\\n --- Beginning of article ---- \\n\\n  {doc} \\n\\n  --- End of article ---:\")\n",
    "    tmp_num_tokens = len(gpt_tokenizer(prompt)['input_ids'])\n",
    "    \n",
    "    # Check if number of tokens is too large and crop away 100 strings until lower number is reached\n",
    "    while(tmp_num_tokens > 4096):\n",
    "        doc = doc[:len(doc)-100]\n",
    "        prompt = (\"Here is a web article/blog post, give me 5 keywords, each keyword on a new line, that describe what the article is about\"\n",
    "                  f\"\\n\\n --- Beginning of article ---- \\n\\n  {doc} \\n\\n  --- End of article ---:\")\n",
    "        tmp_num_tokens = len(gpt_tokenizer(prompt)['input_ids'])\n",
    "    \n",
    "    return doc, tmp_num_tokens"
   ]
  },
  {
   "cell_type": "code",
   "execution_count": 184,
   "metadata": {},
   "outputs": [
    {
     "name": "stderr",
     "output_type": "stream",
     "text": [
      "Token indices sequence length is longer than the specified maximum sequence length for this model (6697 > 1024). Running this sequence through the model will result in indexing errors\n"
     ]
    },
    {
     "name": "stdout",
     "output_type": "stream",
     "text": [
      "Tokens in current document: 121\n",
      "Tokens in current document: 4002\n",
      "Tokens in current document: 97\n",
      "Tokens in current document: 845\n",
      "Tokens in current document: 135\n",
      "Tokens in current document: 2179\n",
      "Tokens in current document: 126\n",
      "Tokens in current document: 3942\n",
      "Tokens in current document: 136\n",
      "Tokens in current document: 3339\n",
      "Tokens in current document: 3763\n",
      "Tokens in current document: 3224\n",
      "Tokens in current document: 3778\n",
      "Tokens in current document: 2349\n",
      "Tokens in current document: 3003\n",
      "Tokens in current document: 3070\n",
      "Tokens in current document: 138\n",
      "Tokens in current document: 140\n",
      "Tokens in current document: 4088\n",
      "Tokens in current document: 145\n",
      "Tokens in current document: 2532\n",
      "Tokens in current document: 2380\n",
      "Tokens in current document: 3564\n",
      "Tokens in current document: 239\n",
      "Tokens in current document: 112\n",
      "Tokens in current document: 121\n",
      "Tokens in current document: 165\n",
      "Tokens in current document: 153\n",
      "Tokens in current document: 324\n",
      "Tokens in current document: 1560\n",
      "Tokens in current document: 133\n",
      "Tokens in current document: 119\n",
      "Tokens in current document: 3757\n",
      "Tokens in current document: 208\n",
      "Tokens in current document: 1966\n",
      "Tokens in current document: 2554\n",
      "Tokens in current document: 4065\n",
      "Tokens in current document: 1803\n",
      "Tokens in current document: 1223\n",
      "Tokens in current document: 3811\n",
      "Tokens in current document: 3994\n",
      "Tokens in current document: 1149\n",
      "Tokens in current document: 110\n",
      "Tokens in current document: 133\n",
      "Tokens in current document: 3884\n",
      "Tokens in current document: 106\n",
      "Tokens in current document: 3829\n",
      "Tokens in current document: 102\n",
      "Tokens in current document: 90\n",
      "Tokens in current document: 126\n",
      "Tokens in current document: 3250\n",
      "Tokens in current document: 119\n",
      "Tokens in current document: 2343\n",
      "Tokens in current document: 1657\n",
      "Tokens in current document: 129\n",
      "Tokens in current document: 4035\n",
      "Tokens in current document: 3817\n",
      "Tokens in current document: 108\n",
      "Tokens in current document: 109\n",
      "Tokens in current document: 3924\n",
      "Tokens in current document: 3362\n",
      "Tokens in current document: 181\n",
      "Tokens in current document: 94\n",
      "Tokens in current document: 2975\n",
      "Tokens in current document: 3747\n",
      "Tokens in current document: 2425\n",
      "Tokens in current document: 1614\n",
      "Tokens in current document: 142\n",
      "Tokens in current document: 1812\n",
      "Tokens in current document: 144\n",
      "Tokens in current document: 142\n",
      "Tokens in current document: 152\n",
      "Tokens in current document: 130\n",
      "Tokens in current document: 2499\n",
      "Tokens in current document: 2779\n",
      "Tokens in current document: 93\n",
      "Tokens in current document: 96\n",
      "Tokens in current document: 149\n",
      "Tokens in current document: 96\n",
      "Tokens in current document: 205\n",
      "Tokens in current document: 3136\n",
      "Tokens in current document: 3985\n",
      "Tokens in current document: 210\n",
      "Tokens in current document: 113\n",
      "Tokens in current document: 95\n",
      "Tokens in current document: 1678\n",
      "Tokens in current document: 142\n",
      "Tokens in current document: 2354\n",
      "Tokens in current document: 3291\n",
      "Tokens in current document: 101\n",
      "Tokens in current document: 94\n",
      "Tokens in current document: 679\n",
      "Tokens in current document: 128\n",
      "Tokens in current document: 4035\n",
      "Tokens in current document: 169\n",
      "Tokens in current document: 2336\n",
      "Tokens in current document: 138\n",
      "Tokens in current document: 2325\n",
      "Tokens in current document: 76\n",
      "Tokens in current document: 3863\n",
      "Tokens in current document: 129\n",
      "Tokens in current document: 158\n",
      "Tokens in current document: 3305\n",
      "Tokens in current document: 3443\n",
      "Tokens in current document: 2383\n",
      "Tokens in current document: 4036\n",
      "Tokens in current document: 106\n",
      "Tokens in current document: 90\n",
      "Tokens in current document: 157\n",
      "Tokens in current document: 2774\n",
      "Tokens in current document: 2929\n",
      "Tokens in current document: 2349\n",
      "Tokens in current document: 105\n",
      "Tokens in current document: 98\n",
      "Tokens in current document: 113\n",
      "Tokens in current document: 119\n",
      "Tokens in current document: 102\n",
      "Tokens in current document: 153\n",
      "Tokens in current document: 158\n",
      "Tokens in current document: 3266\n",
      "Tokens in current document: 138\n",
      "Tokens in current document: 159\n",
      "Tokens in current document: 3166\n",
      "Tokens in current document: 89\n",
      "Tokens in current document: 4023\n",
      "Tokens in current document: 85\n",
      "Tokens in current document: 73\n",
      "Tokens in current document: 3872\n",
      "Tokens in current document: 3886\n",
      "Tokens in current document: 126\n",
      "Tokens in current document: 107\n",
      "Tokens in current document: 3713\n",
      "Tokens in current document: 125\n",
      "Tokens in current document: 112\n",
      "Tokens in current document: 2208\n",
      "Tokens in current document: 92\n",
      "Tokens in current document: 98\n",
      "Tokens in current document: 221\n",
      "Tokens in current document: 131\n",
      "Tokens in current document: 114\n",
      "Tokens in current document: 113\n",
      "Tokens in current document: 3644\n",
      "Tokens in current document: 3853\n",
      "Tokens in current document: 2955\n",
      "Tokens in current document: 2383\n",
      "Tokens in current document: 3338\n",
      "Tokens in current document: 1584\n",
      "Tokens in current document: 103\n",
      "Tokens in current document: 2632\n",
      "Tokens in current document: 145\n",
      "Tokens in current document: 194\n",
      "Tokens in current document: 4054\n",
      "Tokens in current document: 3912\n",
      "Tokens in current document: 3708\n",
      "Tokens in current document: 82\n",
      "Tokens in current document: 115\n",
      "Tokens in current document: 112\n",
      "Tokens in current document: 118\n",
      "Tokens in current document: 3422\n",
      "Tokens in current document: 1271\n",
      "Tokens in current document: 3893\n",
      "Tokens in current document: 4077\n",
      "Tokens in current document: 4053\n",
      "Tokens in current document: 1224\n",
      "Tokens in current document: 3835\n",
      "Tokens in current document: 172\n",
      "Tokens in current document: 3923\n",
      "Tokens in current document: 1574\n",
      "Tokens in current document: 2835\n",
      "Tokens in current document: 84\n",
      "Tokens in current document: 2047\n",
      "Tokens in current document: 122\n",
      "Tokens in current document: 2897\n",
      "Tokens in current document: 2713\n",
      "Tokens in current document: 3554\n",
      "Tokens in current document: 2633\n",
      "Tokens in current document: 113\n",
      "Tokens in current document: 3963\n",
      "Tokens in current document: 2775\n",
      "Tokens in current document: 3363\n",
      "Tokens in current document: 2312\n",
      "Tokens in current document: 3927\n",
      "Tokens in current document: 127\n",
      "Tokens in current document: 153\n",
      "Tokens in current document: 155\n",
      "Tokens in current document: 307\n",
      "Tokens in current document: 4091\n",
      "Tokens in current document: 111\n",
      "Tokens in current document: 189\n",
      "Tokens in current document: 3880\n",
      "Tokens in current document: 95\n",
      "Tokens in current document: 97\n",
      "Tokens in current document: 1468\n",
      "Tokens in current document: 1155\n",
      "Tokens in current document: 149\n",
      "Tokens in current document: 3481\n",
      "Tokens in current document: 159\n",
      "Tokens in current document: 176\n",
      "Tokens in current document: 2466\n",
      "Tokens in current document: 512\n",
      "Tokens in current document: 112\n",
      "Tokens in current document: 119\n",
      "Tokens in current document: 3792\n",
      "Tokens in current document: 2029\n",
      "Tokens in current document: 120\n",
      "Tokens in current document: 3881\n",
      "Tokens in current document: 131\n",
      "Tokens in current document: 119\n",
      "Tokens in current document: 174\n",
      "Tokens in current document: 759\n",
      "Tokens in current document: 98\n",
      "Tokens in current document: 93\n",
      "Tokens in current document: 141\n",
      "Tokens in current document: 2730\n",
      "Tokens in current document: 64\n",
      "Tokens in current document: 134\n",
      "Tokens in current document: 2193\n",
      "Tokens in current document: 3886\n",
      "Tokens in current document: 118\n",
      "Tokens in current document: 1404\n",
      "Tokens in current document: 85\n",
      "Tokens in current document: 3776\n",
      "Tokens in current document: 3304\n",
      "Tokens in current document: 3542\n",
      "Tokens in current document: 3936\n",
      "Tokens in current document: 132\n",
      "Tokens in current document: 128\n",
      "Tokens in current document: 125\n",
      "Tokens in current document: 97\n",
      "Tokens in current document: 2594\n",
      "Tokens in current document: 129\n",
      "Tokens in current document: 4057\n",
      "Tokens in current document: 2121\n",
      "Tokens in current document: 3900\n",
      "Tokens in current document: 2124\n",
      "Tokens in current document: 121\n",
      "Tokens in current document: 2968\n",
      "Tokens in current document: 2181\n",
      "Tokens in current document: 128\n",
      "Tokens in current document: 3896\n",
      "Tokens in current document: 3740\n",
      "Tokens in current document: 2775\n",
      "Tokens in current document: 73\n",
      "Tokens in current document: 105\n",
      "Tokens in current document: 207\n",
      "Tokens in current document: 2229\n",
      "Tokens in current document: 2526\n",
      "Tokens in current document: 146\n",
      "Tokens in current document: 187\n",
      "Tokens in current document: 1634\n",
      "Tokens in current document: 3836\n",
      "Tokens in current document: 193\n",
      "Tokens in current document: 89\n",
      "Tokens in current document: 2369\n",
      "Tokens in current document: 1424\n",
      "Tokens in current document: 1317\n",
      "Tokens in current document: 118\n",
      "Tokens in current document: 2008\n",
      "Tokens in current document: 906\n",
      "Tokens in current document: 109\n",
      "Tokens in current document: 140\n",
      "Tokens in current document: 203\n",
      "Tokens in current document: 1821\n",
      "Tokens in current document: 1063\n",
      "Tokens in current document: 152\n",
      "Tokens in current document: 131\n",
      "Tokens in current document: 3635\n",
      "Tokens in current document: 3928\n",
      "Tokens in current document: 2233\n",
      "Tokens in current document: 2272\n",
      "Tokens in current document: 80\n",
      "Tokens in current document: 143\n",
      "Tokens in current document: 1598\n",
      "Tokens in current document: 110\n",
      "Tokens in current document: 2072\n",
      "Tokens in current document: 152\n",
      "Tokens in current document: 105\n",
      "Tokens in current document: 89\n",
      "Tokens in current document: 1395\n",
      "Tokens in current document: 104\n",
      "Tokens in current document: 100\n",
      "Tokens in current document: 125\n",
      "Tokens in current document: 109\n",
      "Tokens in current document: 2540\n",
      "Tokens in current document: 2386\n",
      "Tokens in current document: 142\n",
      "Tokens in current document: 3085\n",
      "Tokens in current document: 120\n",
      "Tokens in current document: 97\n",
      "Tokens in current document: 552\n",
      "Tokens in current document: 3248\n",
      "Tokens in current document: 3441\n",
      "Tokens in current document: 172\n",
      "Tokens in current document: 1903\n",
      "Tokens in current document: 209\n",
      "Tokens in current document: 92\n",
      "Tokens in current document: 3602\n",
      "Tokens in current document: 109\n",
      "Tokens in current document: 1645\n",
      "Tokens in current document: 107\n",
      "Tokens in current document: 99\n",
      "Tokens in current document: 105\n",
      "Tokens in current document: 2639\n",
      "Tokens in current document: 2856\n",
      "Tokens in current document: 2300\n",
      "Tokens in current document: 121\n",
      "Tokens in current document: 1016\n",
      "Tokens in current document: 388\n",
      "Tokens in current document: 310\n",
      "Tokens in current document: 221\n",
      "Tokens in current document: 4092\n",
      "Tokens in current document: 3777\n",
      "Tokens in current document: 122\n",
      "Tokens in current document: 106\n",
      "Tokens in current document: 1151\n",
      "Tokens in current document: 168\n",
      "Tokens in current document: 4073\n",
      "Tokens in current document: 2606\n",
      "Tokens in current document: 118\n",
      "Tokens in current document: 2334\n",
      "Tokens in current document: 2436\n",
      "Tokens in current document: 128\n",
      "Tokens in current document: 150\n",
      "Tokens in current document: 124\n",
      "Tokens in current document: 104\n",
      "Tokens in current document: 3733\n",
      "Tokens in current document: 146\n",
      "Tokens in current document: 3225\n",
      "Tokens in current document: 181\n",
      "Tokens in current document: 4032\n",
      "Tokens in current document: 2205\n",
      "Tokens in current document: 109\n",
      "Tokens in current document: 114\n",
      "Tokens in current document: 319\n",
      "Tokens in current document: 2563\n",
      "Tokens in current document: 151\n",
      "Tokens in current document: 127\n",
      "Tokens in current document: 703\n",
      "Tokens in current document: 111\n",
      "Tokens in current document: 1889\n",
      "Tokens in current document: 145\n",
      "Tokens in current document: 115\n",
      "Tokens in current document: 107\n",
      "Tokens in current document: 124\n",
      "Tokens in current document: 2223\n",
      "Tokens in current document: 278\n",
      "Tokens in current document: 327\n",
      "Tokens in current document: 1719\n",
      "Tokens in current document: 97\n",
      "Tokens in current document: 307\n",
      "Tokens in current document: 3365\n",
      "Tokens in current document: 3914\n",
      "Tokens in current document: 2502\n",
      "Tokens in current document: 3899\n",
      "Tokens in current document: 149\n",
      "Tokens in current document: 125\n",
      "Tokens in current document: 4076\n",
      "Tokens in current document: 128\n",
      "Tokens in current document: 124\n",
      "Tokens in current document: 1416\n",
      "Tokens in current document: 346\n",
      "Tokens in current document: 4052\n",
      "Tokens in current document: 3744\n",
      "Tokens in current document: 2185\n",
      "Tokens in current document: 2370\n",
      "Tokens in current document: 120\n",
      "Tokens in current document: 99\n",
      "Tokens in current document: 1768\n",
      "Tokens in current document: 176\n",
      "Tokens in current document: 1514\n",
      "Tokens in current document: 135\n",
      "Tokens in current document: 305\n",
      "Tokens in current document: 3010\n",
      "Tokens in current document: 1283\n",
      "Tokens in current document: 2449\n",
      "Tokens in current document: 1815\n",
      "Tokens in current document: 3451\n",
      "Tokens in current document: 107\n",
      "Tokens in current document: 101\n",
      "Tokens in current document: 3882\n",
      "Tokens in current document: 155\n",
      "Tokens in current document: 1882\n",
      "Tokens in current document: 4050\n",
      "Tokens in current document: 107\n",
      "Tokens in current document: 1225\n",
      "Tokens in current document: 114\n",
      "Tokens in current document: 1847\n",
      "Tokens in current document: 1486\n",
      "Tokens in current document: 115\n",
      "Tokens in current document: 3057\n",
      "Tokens in current document: 3686\n",
      "Tokens in current document: 153\n",
      "Tokens in current document: 2439\n",
      "Tokens in current document: 3067\n",
      "Tokens in current document: 3781\n",
      "Tokens in current document: 1214\n",
      "Tokens in current document: 98\n",
      "Tokens in current document: 129\n",
      "Tokens in current document: 3847\n",
      "Tokens in current document: 3927\n",
      "Tokens in current document: 1881\n",
      "Tokens in current document: 142\n",
      "Tokens in current document: 154\n",
      "Tokens in current document: 156\n",
      "Tokens in current document: 3899\n",
      "Tokens in current document: 139\n",
      "Tokens in current document: 2263\n",
      "Tokens in current document: 415\n",
      "Tokens in current document: 116\n",
      "Tokens in current document: 1849\n",
      "Tokens in current document: 113\n",
      "Tokens in current document: 161\n",
      "Tokens in current document: 3373\n",
      "Tokens in current document: 115\n",
      "Tokens in current document: 2806\n",
      "Tokens in current document: 3787\n",
      "Tokens in current document: 134\n",
      "Tokens in current document: 114\n",
      "Tokens in current document: 111\n",
      "Tokens in current document: 3192\n",
      "Tokens in current document: 1388\n",
      "Tokens in current document: 1635\n",
      "Tokens in current document: 2492\n",
      "Tokens in current document: 2329\n",
      "Tokens in current document: 74\n",
      "Tokens in current document: 122\n",
      "Tokens in current document: 83\n",
      "Tokens in current document: 1231\n",
      "Tokens in current document: 155\n",
      "Tokens in current document: 65\n",
      "Tokens in current document: 137\n",
      "Tokens in current document: 178\n",
      "Tokens in current document: 121\n",
      "Tokens in current document: 3862\n",
      "Tokens in current document: 109\n",
      "Tokens in current document: 1988\n",
      "Tokens in current document: 1500\n",
      "Tokens in current document: 163\n",
      "Tokens in current document: 2478\n",
      "Tokens in current document: 3852\n",
      "Tokens in current document: 97\n",
      "Tokens in current document: 3476\n",
      "Tokens in current document: 2050\n",
      "Tokens in current document: 174\n",
      "Tokens in current document: 3706\n",
      "Tokens in current document: 115\n",
      "Tokens in current document: 2442\n",
      "Tokens in current document: 3952\n",
      "Tokens in current document: 97\n",
      "Tokens in current document: 136\n",
      "Tokens in current document: 2589\n",
      "Tokens in current document: 88\n",
      "Tokens in current document: 154\n",
      "Tokens in current document: 1638\n",
      "Tokens in current document: 68\n",
      "Tokens in current document: 3896\n",
      "Tokens in current document: 144\n",
      "Tokens in current document: 131\n",
      "Tokens in current document: 1961\n",
      "Tokens in current document: 2393\n",
      "Tokens in current document: 99\n",
      "Tokens in current document: 2136\n",
      "Tokens in current document: 4034\n",
      "Tokens in current document: 106\n",
      "Tokens in current document: 4063\n",
      "Tokens in current document: 133\n",
      "Tokens in current document: 149\n",
      "Tokens in current document: 133\n",
      "Tokens in current document: 3853\n",
      "Tokens in current document: 91\n",
      "Tokens in current document: 2799\n",
      "Tokens in current document: 2490\n",
      "Tokens in current document: 190\n",
      "Tokens in current document: 176\n",
      "Tokens in current document: 114\n",
      "Tokens in current document: 3986\n",
      "Tokens in current document: 174\n",
      "Tokens in current document: 1741\n",
      "Tokens in current document: 2959\n",
      "Tokens in current document: 3867\n",
      "Tokens in current document: 98\n",
      "Tokens in current document: 126\n",
      "Tokens in current document: 166\n",
      "Tokens in current document: 88\n",
      "Tokens in current document: 114\n",
      "Tokens in current document: 103\n",
      "Tokens in current document: 115\n",
      "Tokens in current document: 4066\n",
      "Tokens in current document: 88\n",
      "Tokens in current document: 109\n",
      "Tokens in current document: 2290\n",
      "Tokens in current document: 96\n",
      "Tokens in current document: 87\n",
      "Tokens in current document: 2435\n",
      "Tokens in current document: 138\n",
      "Tokens in current document: 126\n",
      "Tokens in current document: 3432\n",
      "Tokens in current document: 141\n",
      "Tokens in current document: 129\n",
      "Tokens in current document: 124\n",
      "Tokens in current document: 117\n",
      "Tokens in current document: 2849\n",
      "Tokens in current document: 1947\n",
      "Tokens in current document: 506\n",
      "Tokens in current document: 2057\n",
      "Tokens in current document: 95\n",
      "Tokens in current document: 109\n",
      "Tokens in current document: 107\n",
      "Tokens in current document: 3803\n",
      "Tokens in current document: 103\n",
      "Tokens in current document: 163\n",
      "Tokens in current document: 226\n",
      "Tokens in current document: 1587\n",
      "Tokens in current document: 3880\n",
      "Tokens in current document: 1796\n",
      "Tokens in current document: 3617\n",
      "Tokens in current document: 1769\n",
      "Tokens in current document: 105\n",
      "Tokens in current document: 129\n",
      "Tokens in current document: 2291\n",
      "Tokens in current document: 85\n",
      "Tokens in current document: 849\n",
      "Tokens in current document: 2638\n",
      "Tokens in current document: 3700\n",
      "Tokens in current document: 2215\n",
      "Tokens in current document: 1860\n",
      "Tokens in current document: 361\n",
      "Tokens in current document: 97\n",
      "Tokens in current document: 2471\n",
      "Tokens in current document: 137\n",
      "Tokens in current document: 118\n",
      "Tokens in current document: 2577\n",
      "Tokens in current document: 2691\n",
      "Tokens in current document: 2018\n",
      "Tokens in current document: 133\n",
      "Tokens in current document: 357\n",
      "Tokens in current document: 2104\n",
      "Tokens in current document: 101\n",
      "Tokens in current document: 87\n",
      "Tokens in current document: 102\n",
      "Tokens in current document: 3860\n",
      "Tokens in current document: 129\n",
      "Tokens in current document: 274\n",
      "Tokens in current document: 2293\n",
      "Tokens in current document: 124\n",
      "Tokens in current document: 4054\n",
      "Tokens in current document: 1284\n",
      "Tokens in current document: 3544\n",
      "Tokens in current document: 101\n",
      "Tokens in current document: 2273\n",
      "Tokens in current document: 3276\n",
      "Tokens in current document: 126\n",
      "Tokens in current document: 3784\n",
      "Tokens in current document: 4019\n",
      "Tokens in current document: 130\n",
      "Tokens in current document: 156\n",
      "Tokens in current document: 2981\n",
      "Tokens in current document: 108\n",
      "Tokens in current document: 173\n",
      "Tokens in current document: 97\n",
      "Tokens in current document: 3689\n",
      "Tokens in current document: 265\n",
      "Tokens in current document: 112\n",
      "Tokens in current document: 231\n",
      "Tokens in current document: 3929\n",
      "Tokens in current document: 159\n",
      "Tokens in current document: 2329\n",
      "Tokens in current document: 3930\n",
      "Tokens in current document: 3943\n",
      "Tokens in current document: 124\n",
      "Tokens in current document: 142\n",
      "Tokens in current document: 116\n",
      "Tokens in current document: 3579\n",
      "Tokens in current document: 1406\n",
      "Tokens in current document: 3665\n",
      "Tokens in current document: 142\n",
      "Tokens in current document: 1968\n",
      "Tokens in current document: 192\n",
      "Tokens in current document: 3877\n",
      "Tokens in current document: 116\n",
      "Tokens in current document: 107\n",
      "Tokens in current document: 155\n",
      "Tokens in current document: 2406\n",
      "Tokens in current document: 3588\n",
      "Tokens in current document: 2197\n",
      "Tokens in current document: 145\n",
      "Tokens in current document: 3326\n",
      "Tokens in current document: 3939\n",
      "Tokens in current document: 126\n",
      "Tokens in current document: 1821\n",
      "Tokens in current document: 123\n",
      "Tokens in current document: 232\n",
      "Tokens in current document: 100\n",
      "Tokens in current document: 2808\n",
      "Tokens in current document: 135\n",
      "Tokens in current document: 3547\n",
      "Tokens in current document: 96\n",
      "Tokens in current document: 103\n",
      "Tokens in current document: 161\n",
      "Tokens in current document: 2611\n",
      "Tokens in current document: 2435\n",
      "Tokens in current document: 1129\n",
      "Tokens in current document: 159\n",
      "Tokens in current document: 2198\n",
      "Tokens in current document: 3750\n",
      "Tokens in current document: 117\n",
      "Tokens in current document: 126\n",
      "Tokens in current document: 3133\n",
      "Tokens in current document: 149\n",
      "Tokens in current document: 114\n",
      "Tokens in current document: 1613\n",
      "Tokens in current document: 2048\n",
      "Tokens in current document: 3742\n",
      "Tokens in current document: 1239\n",
      "Tokens in current document: 126\n",
      "Tokens in current document: 132\n",
      "Tokens in current document: 2906\n",
      "Tokens in current document: 1832\n",
      "Tokens in current document: 108\n",
      "Tokens in current document: 91\n",
      "Tokens in current document: 108\n",
      "Tokens in current document: 3967\n",
      "Tokens in current document: 3830\n",
      "Tokens in current document: 1276\n",
      "Tokens in current document: 2048\n",
      "Tokens in current document: 1258\n",
      "Tokens in current document: 153\n",
      "Tokens in current document: 154\n",
      "Tokens in current document: 186\n",
      "Tokens in current document: 241\n",
      "Tokens in current document: 140\n",
      "Tokens in current document: 92\n",
      "Tokens in current document: 1112\n",
      "Tokens in current document: 89\n",
      "Tokens in current document: 2883\n",
      "Tokens in current document: 1815\n",
      "Tokens in current document: 241\n",
      "Tokens in current document: 108\n",
      "Tokens in current document: 125\n",
      "Tokens in current document: 2457\n",
      "Tokens in current document: 138\n",
      "Tokens in current document: 130\n",
      "Tokens in current document: 3630\n",
      "Tokens in current document: 104\n",
      "Tokens in current document: 136\n",
      "Tokens in current document: 120\n",
      "Tokens in current document: 2824\n",
      "Tokens in current document: 4006\n",
      "Tokens in current document: 151\n",
      "Tokens in current document: 2810\n",
      "Tokens in current document: 144\n",
      "Tokens in current document: 1019\n",
      "Tokens in current document: 164\n",
      "Tokens in current document: 130\n",
      "Tokens in current document: 102\n",
      "Tokens in current document: 143\n",
      "Tokens in current document: 116\n",
      "Tokens in current document: 102\n",
      "Tokens in current document: 4030\n",
      "Tokens in current document: 2784\n",
      "Tokens in current document: 88\n",
      "Tokens in current document: 144\n",
      "Tokens in current document: 174\n",
      "Tokens in current document: 3272\n",
      "Tokens in current document: 126\n",
      "Tokens in current document: 2083\n",
      "Tokens in current document: 99\n",
      "Tokens in current document: 112\n",
      "Tokens in current document: 1714\n",
      "Tokens in current document: 139\n",
      "Tokens in current document: 3802\n",
      "Tokens in current document: 289\n",
      "Tokens in current document: 1676\n",
      "Tokens in current document: 3181\n",
      "Tokens in current document: 3239\n",
      "Tokens in current document: 988\n",
      "Tokens in current document: 1489\n",
      "Tokens in current document: 111\n",
      "Tokens in current document: 2636\n",
      "Tokens in current document: 106\n",
      "Tokens in current document: 3904\n",
      "Tokens in current document: 3860\n",
      "Tokens in current document: 1131\n",
      "Tokens in current document: 171\n",
      "Tokens in current document: 2469\n",
      "Tokens in current document: 1225\n",
      "Tokens in current document: 193\n",
      "Tokens in current document: 3618\n",
      "Tokens in current document: 3271\n",
      "Tokens in current document: 824\n",
      "Tokens in current document: 1451\n",
      "Tokens in current document: 133\n",
      "Tokens in current document: 1623\n",
      "Tokens in current document: 1471\n",
      "Tokens in current document: 3952\n",
      "Tokens in current document: 2124\n",
      "Tokens in current document: 126\n",
      "Tokens in current document: 127\n",
      "Tokens in current document: 3383\n",
      "Tokens in current document: 110\n",
      "Tokens in current document: 127\n",
      "Tokens in current document: 3987\n",
      "Tokens in current document: 3756\n",
      "Tokens in current document: 3989\n",
      "Tokens in current document: 157\n",
      "Tokens in current document: 120\n",
      "Tokens in current document: 2445\n",
      "Tokens in current document: 120\n",
      "Tokens in current document: 105\n",
      "Tokens in current document: 115\n",
      "Tokens in current document: 122\n",
      "Tokens in current document: 1405\n",
      "Tokens in current document: 151\n",
      "Tokens in current document: 119\n",
      "Tokens in current document: 128\n",
      "Tokens in current document: 132\n",
      "Tokens in current document: 126\n",
      "Tokens in current document: 90\n",
      "Tokens in current document: 160\n",
      "Tokens in current document: 235\n",
      "Tokens in current document: 3942\n",
      "Tokens in current document: 3848\n",
      "Tokens in current document: 3754\n",
      "Tokens in current document: 124\n",
      "Tokens in current document: 2010\n",
      "Tokens in current document: 97\n",
      "Tokens in current document: 3833\n",
      "Tokens in current document: 3794\n",
      "Tokens in current document: 1816\n",
      "Tokens in current document: 1827\n",
      "Tokens in current document: 3763\n",
      "Tokens in current document: 129\n",
      "Tokens in current document: 2823\n",
      "Tokens in current document: 3797\n",
      "Tokens in current document: 128\n",
      "Tokens in current document: 3906\n",
      "Tokens in current document: 2590\n",
      "Tokens in current document: 2319\n",
      "Tokens in current document: 4059\n",
      "Tokens in current document: 3851\n",
      "Tokens in current document: 2030\n",
      "Tokens in current document: 2199\n",
      "Tokens in current document: 580\n",
      "Tokens in current document: 161\n",
      "Tokens in current document: 1395\n",
      "Tokens in current document: 123\n",
      "Tokens in current document: 1386\n",
      "Tokens in current document: 108\n",
      "Tokens in current document: 127\n",
      "Tokens in current document: 3894\n",
      "Tokens in current document: 182\n",
      "Tokens in current document: 126\n",
      "Tokens in current document: 3646\n",
      "Tokens in current document: 2475\n",
      "Tokens in current document: 3805\n",
      "Tokens in current document: 84\n",
      "Tokens in current document: 343\n",
      "Tokens in current document: 2031\n",
      "Tokens in current document: 126\n",
      "Tokens in current document: 307\n",
      "Tokens in current document: 2945\n",
      "Tokens in current document: 124\n",
      "Tokens in current document: 91\n",
      "Tokens in current document: 126\n",
      "Tokens in current document: 3834\n",
      "Tokens in current document: 61\n",
      "Tokens in current document: 1823\n",
      "Tokens in current document: 168\n",
      "Tokens in current document: 117\n",
      "Tokens in current document: 129\n",
      "Tokens in current document: 127\n",
      "Tokens in current document: 2131\n",
      "Tokens in current document: 143\n",
      "Tokens in current document: 2910\n",
      "Tokens in current document: 857\n",
      "Tokens in current document: 178\n",
      "Tokens in current document: 3691\n",
      "Tokens in current document: 123\n",
      "Tokens in current document: 106\n",
      "Tokens in current document: 85\n",
      "Tokens in current document: 2855\n",
      "Tokens in current document: 3990\n",
      "Tokens in current document: 3779\n",
      "Tokens in current document: 3701\n",
      "Tokens in current document: 146\n",
      "Tokens in current document: 2505\n",
      "Tokens in current document: 146\n",
      "Tokens in current document: 73\n",
      "Tokens in current document: 127\n",
      "Tokens in current document: 125\n",
      "Tokens in current document: 114\n",
      "Tokens in current document: 114\n",
      "Tokens in current document: 145\n",
      "Tokens in current document: 2880\n",
      "Tokens in current document: 75\n",
      "Tokens in current document: 4065\n",
      "Tokens in current document: 1865\n",
      "Tokens in current document: 1784\n",
      "Tokens in current document: 1575\n",
      "Tokens in current document: 1761\n",
      "Tokens in current document: 3847\n",
      "Tokens in current document: 115\n",
      "Tokens in current document: 87\n",
      "Tokens in current document: 1177\n",
      "Tokens in current document: 158\n",
      "Tokens in current document: 2042\n",
      "Tokens in current document: 110\n",
      "Tokens in current document: 2411\n",
      "Tokens in current document: 137\n",
      "Tokens in current document: 3716\n",
      "Tokens in current document: 1322\n",
      "Tokens in current document: 166\n",
      "Tokens in current document: 116\n",
      "Tokens in current document: 3828\n",
      "Tokens in current document: 2283\n",
      "Tokens in current document: 3750\n",
      "Tokens in current document: 2927\n",
      "Tokens in current document: 1189\n",
      "Tokens in current document: 119\n",
      "Tokens in current document: 112\n",
      "Tokens in current document: 271\n",
      "Tokens in current document: 1564\n",
      "Tokens in current document: 2852\n",
      "Tokens in current document: 735\n",
      "Tokens in current document: 193\n",
      "Tokens in current document: 169\n",
      "Tokens in current document: 114\n",
      "Tokens in current document: 111\n",
      "Tokens in current document: 2456\n",
      "Tokens in current document: 3920\n",
      "Tokens in current document: 2292\n",
      "Tokens in current document: 169\n",
      "Tokens in current document: 1770\n",
      "Tokens in current document: 2984\n",
      "Tokens in current document: 2111\n",
      "Tokens in current document: 3152\n",
      "Tokens in current document: 2618\n",
      "Tokens in current document: 148\n",
      "Tokens in current document: 3907\n",
      "Tokens in current document: 111\n",
      "Tokens in current document: 785\n",
      "Tokens in current document: 178\n",
      "Tokens in current document: 1052\n",
      "Tokens in current document: 2472\n",
      "Tokens in current document: 3920\n",
      "Tokens in current document: 2104\n",
      "Tokens in current document: 1504\n",
      "Tokens in current document: 3613\n",
      "Tokens in current document: 161\n",
      "Tokens in current document: 3977\n",
      "Tokens in current document: 3653\n",
      "Tokens in current document: 2144\n",
      "Tokens in current document: 3497\n",
      "Tokens in current document: 2836\n",
      "Tokens in current document: 101\n",
      "Tokens in current document: 1353\n",
      "Tokens in current document: 2652\n",
      "Tokens in current document: 206\n",
      "Tokens in current document: 2383\n",
      "Tokens in current document: 2193\n",
      "Tokens in current document: 210\n",
      "Tokens in current document: 3545\n",
      "Tokens in current document: 119\n",
      "Tokens in current document: 96\n",
      "Tokens in current document: 98\n",
      "Tokens in current document: 2231\n",
      "Tokens in current document: 172\n",
      "Tokens in current document: 2727\n",
      "Tokens in current document: 86\n",
      "Tokens in current document: 1597\n",
      "Tokens in current document: 2288\n",
      "Tokens in current document: 109\n",
      "Tokens in current document: 124\n",
      "Tokens in current document: 96\n",
      "Tokens in current document: 145\n",
      "Tokens in current document: 1922\n",
      "Tokens in current document: 98\n",
      "Tokens in current document: 143\n",
      "Tokens in current document: 135\n",
      "Tokens in current document: 95\n",
      "Tokens in current document: 4000\n",
      "Tokens in current document: 129\n",
      "Tokens in current document: 92\n",
      "Tokens in current document: 157\n",
      "Tokens in current document: 139\n",
      "Tokens in current document: 102\n",
      "Tokens in current document: 112\n",
      "Tokens in current document: 210\n",
      "Tokens in current document: 120\n",
      "Tokens in current document: 192\n",
      "Tokens in current document: 148\n",
      "Tokens in current document: 151\n",
      "Tokens in current document: 3862\n",
      "Tokens in current document: 2294\n",
      "Tokens in current document: 1161\n",
      "Tokens in current document: 3776\n",
      "Tokens in current document: 167\n",
      "Tokens in current document: 3773\n",
      "Tokens in current document: 4092\n",
      "Tokens in current document: 130\n",
      "Tokens in current document: 1299\n",
      "Tokens in current document: 1302\n",
      "Tokens in current document: 2598\n",
      "Tokens in current document: 279\n",
      "Tokens in current document: 207\n",
      "Tokens in current document: 3776\n",
      "Tokens in current document: 111\n",
      "Tokens in current document: 3794\n",
      "Tokens in current document: 132\n",
      "Tokens in current document: 966\n",
      "Tokens in current document: 4020\n",
      "Tokens in current document: 4073\n",
      "Tokens in current document: 1041\n",
      "Tokens in current document: 96\n",
      "Tokens in current document: 2092\n",
      "Tokens in current document: 2854\n",
      "Tokens in current document: 162\n",
      "Tokens in current document: 444\n",
      "Tokens in current document: 2700\n",
      "Tokens in current document: 110\n",
      "Tokens in current document: 106\n",
      "Tokens in current document: 141\n",
      "Tokens in current document: 147\n",
      "Tokens in current document: 112\n",
      "Tokens in current document: 121\n",
      "Tokens in current document: 143\n",
      "Tokens in current document: 414\n",
      "Tokens in current document: 3961\n",
      "Tokens in current document: 3551\n",
      "Tokens in current document: 126\n",
      "Tokens in current document: 1462\n",
      "Tokens in current document: 1077\n",
      "Tokens in current document: 126\n",
      "Tokens in current document: 2393\n",
      "Tokens in current document: 4065\n",
      "Tokens in current document: 3843\n",
      "Tokens in current document: 3882\n",
      "Tokens in current document: 1959\n",
      "Tokens in current document: 112\n",
      "Tokens in current document: 3795\n",
      "Tokens in current document: 1962\n",
      "Tokens in current document: 3753\n",
      "Tokens in current document: 3055\n",
      "Tokens in current document: 2526\n",
      "Tokens in current document: 122\n",
      "Tokens in current document: 139\n",
      "Tokens in current document: 146\n",
      "Tokens in current document: 141\n",
      "Tokens in current document: 1684\n",
      "Tokens in current document: 1640\n",
      "Tokens in current document: 740\n",
      "Tokens in current document: 2513\n",
      "Tokens in current document: 113\n",
      "Tokens in current document: 116\n",
      "Tokens in current document: 115\n",
      "Tokens in current document: 3217\n",
      "Tokens in current document: 116\n",
      "Tokens in current document: 1848\n",
      "Tokens in current document: 3367\n",
      "Tokens in current document: 124\n",
      "Tokens in current document: 3806\n",
      "Tokens in current document: 582\n",
      "Tokens in current document: 3813\n",
      "Tokens in current document: 110\n",
      "Tokens in current document: 1974\n",
      "Tokens in current document: 3975\n",
      "Tokens in current document: 129\n",
      "Tokens in current document: 3771\n",
      "Tokens in current document: 3809\n",
      "Tokens in current document: 3158\n",
      "Tokens in current document: 156\n",
      "Tokens in current document: 3320\n",
      "Tokens in current document: 103\n",
      "Tokens in current document: 3272\n",
      "Tokens in current document: 2264\n",
      "Tokens in current document: 111\n",
      "Tokens in current document: 573\n",
      "Tokens in current document: 2612\n",
      "Tokens in current document: 998\n",
      "Tokens in current document: 148\n",
      "Tokens in current document: 3214\n",
      "Tokens in current document: 4012\n",
      "Tokens in current document: 230\n",
      "Tokens in current document: 3261\n",
      "Tokens in current document: 3028\n",
      "Tokens in current document: 2317\n",
      "Tokens in current document: 295\n",
      "Tokens in current document: 4001\n",
      "Tokens in current document: 136\n",
      "Tokens in current document: 128\n",
      "Tokens in current document: 2112\n",
      "Tokens in current document: 130\n",
      "Tokens in current document: 208\n",
      "Tokens in current document: 1366\n",
      "Tokens in current document: 147\n",
      "Tokens in current document: 2358\n",
      "Tokens in current document: 143\n",
      "Tokens in current document: 4083\n",
      "Tokens in current document: 116\n",
      "Tokens in current document: 1942\n",
      "Tokens in current document: 3869\n",
      "Tokens in current document: 128\n",
      "Tokens in current document: 105\n",
      "Tokens in current document: 2222\n",
      "Tokens in current document: 178\n",
      "Tokens in current document: 3887\n",
      "Tokens in current document: 3748\n",
      "Tokens in current document: 227\n",
      "Tokens in current document: 1058\n",
      "Tokens in current document: 153\n",
      "Tokens in current document: 197\n",
      "Tokens in current document: 99\n",
      "Tokens in current document: 1893\n",
      "Tokens in current document: 1970\n",
      "Tokens in current document: 4083\n",
      "Tokens in current document: 127\n",
      "Tokens in current document: 124\n",
      "Tokens in current document: 109\n",
      "Tokens in current document: 102\n",
      "Tokens in current document: 110\n",
      "Tokens in current document: 138\n",
      "Tokens in current document: 128\n",
      "Tokens in current document: 133\n",
      "Tokens in current document: 143\n",
      "Tokens in current document: 2720\n",
      "Tokens in current document: 3932\n",
      "Tokens in current document: 3740\n",
      "Tokens in current document: 2509\n",
      "Tokens in current document: 117\n",
      "Tokens in current document: 130\n",
      "Tokens in current document: 4092\n",
      "Tokens in current document: 321\n",
      "Tokens in current document: 123\n",
      "Tokens in current document: 365\n",
      "Tokens in current document: 2619\n",
      "Tokens in current document: 3743\n",
      "Tokens in current document: 117\n",
      "Tokens in current document: 3000\n",
      "Tokens in current document: 2211\n",
      "Tokens in current document: 3661\n",
      "Tokens in current document: 2217\n",
      "Tokens in current document: 1736\n",
      "Tokens in current document: 1595\n",
      "Tokens in current document: 1484\n",
      "Tokens in current document: 116\n",
      "Tokens in current document: 105\n",
      "Tokens in current document: 288\n",
      "Tokens in current document: 353\n",
      "Tokens in current document: 136\n",
      "Tokens in current document: 114\n",
      "Tokens in current document: 1380\n",
      "Total number of tokens: 1518727\n"
     ]
    }
   ],
   "source": [
    "# Before we use LLM, let's get an idea of how many tokens we need:\n",
    "gpt_tokenizer = GPT2Tokenizer.from_pretrained(\"gpt2\") # GPT2 tokenizer is same as used for GPT3\n",
    "num_tokens_full = 0\n",
    "for doc in df_content[\"preprocessed_content\"]:\n",
    "    tmp_doc, tmp_num_tokens = get_cropped_prompt(doc)\n",
    "    \n",
    "    print(f\"Tokens in current document: {tmp_num_tokens}\")\n",
    "    num_tokens_full += tmp_num_tokens\n",
    "\n",
    "print(f\"Total number of tokens: {num_tokens_full}\")"
   ]
  },
  {
   "cell_type": "code",
   "execution_count": 185,
   "metadata": {},
   "outputs": [
    {
     "name": "stdout",
     "output_type": "stream",
     "text": [
      "Maximum costs for all tokens using gpt-3.5-turbo model: 3.25 USD\n"
     ]
    }
   ],
   "source": [
    "# Let's also get an idea of how much this will cost us:\n",
    "costs_gpt3 = 0.002\n",
    "costs_prompt = (num_tokens_full/1000)*costs_gpt3\n",
    "max_costs_output = ((df_content[\"preprocessed_content\"].shape[0]*100)/1000)*costs_gpt3\n",
    "max_costs_tot = costs_prompt + max_costs_output\n",
    "print(f\"Maximum costs for all tokens using gpt-3.5-turbo model: {max_costs_tot:.2f} USD\")"
   ]
  },
  {
   "cell_type": "code",
   "execution_count": 186,
   "metadata": {},
   "outputs": [],
   "source": [
    "# Set whether you want to run the GPT model or whether to load pre-computed results\n",
    "#\n",
    "# By default, we load the pre-computed results (I pre-computed the results using my personal GPT3 API key)\n",
    "# but feel free to change this to True if you want to run it yourself (and pay the 3 bucks ;) ). Note that\n",
    "# the OPENAI_API_KEY environment variable needs to be set for this to work.\n",
    "use_gpt = False"
   ]
  },
  {
   "cell_type": "code",
   "execution_count": 187,
   "metadata": {},
   "outputs": [],
   "source": [
    "if use_gpt:\n",
    "    openai.api_key = os.getenv(\"OPENAI_API_KEY\")\n",
    "\n",
    "    keywords = {}\n",
    "\n",
    "    for i, doc in enumerate(df_content[\"preprocessed_content\"]):\n",
    "        if i in keywords.keys():\n",
    "            continue\n",
    "        \n",
    "        tmp_doc, _ = get_cropped_prompt(doc)\n",
    "        prompt = (\"Here is a web article/blog post, give me 5 keywords, each keyword on a new line, that describe what the article is about\"\n",
    "                    f\"\\n\\n --- Beginning of article ---- \\n\\n  {tmp_doc} \\n\\n  --- End of article ---:\")\n",
    "        \n",
    "        response_gpt3 = openai.ChatCompletion.create(\n",
    "            model=\"gpt-3.5-turbo\",\n",
    "            messages=[\n",
    "                {\"role\": \"user\", \"content\": prompt}\n",
    "                ]\n",
    "            )\n",
    "        \n",
    "        keywords[i] = response_gpt3[\"choices\"][0][\"message\"][\"content\"].splitlines()\n",
    "    \n",
    "    # save as json file\n",
    "    with open(\"gpt3_keywords.json\", \"w\") as f:\n",
    "        json.dump(keywords, f, indent=4)\n",
    "else:\n",
    "    with open(\"keywords_cleaned.json\", \"r\") as f:\n",
    "        keywords = json.load(f)"
   ]
  },
  {
   "cell_type": "code",
   "execution_count": 188,
   "metadata": {},
   "outputs": [],
   "source": [
    "# Add keywords to dataframe\n",
    "df_content[\"keywords\"] = keywords.values()"
   ]
  },
  {
   "cell_type": "code",
   "execution_count": 189,
   "metadata": {},
   "outputs": [],
   "source": [
    "# Find the most common keywords\n",
    "keyword_counts = {}\n",
    "for i, doc in enumerate(keywords.values()):\n",
    "    for keyword in doc:\n",
    "        if keyword in keyword_counts.keys():\n",
    "            keyword_counts[keyword] += 1\n",
    "        else:\n",
    "            keyword_counts[keyword] = 1\n",
    "\n",
    "# Save top 20 most frequent keywords as a list of key/value tuples\n",
    "top_keywords = sorted(keyword_counts.items(), key=lambda x: x[1], reverse=True)[:20]"
   ]
  },
  {
   "cell_type": "code",
   "execution_count": 190,
   "metadata": {},
   "outputs": [
    {
     "data": {
      "text/plain": [
       "[('data science', 155),\n",
       " ('machine learning', 107),\n",
       " ('cloudant', 91),\n",
       " ('ibm', 76),\n",
       " ('database', 75),\n",
       " ('data', 73),\n",
       " ('video', 56),\n",
       " ('big data', 55),\n",
       " ('python', 53),\n",
       " ('compose', 47),\n",
       " ('postgresql', 41),\n",
       " ('apache spark', 35),\n",
       " ('ibm watson', 34),\n",
       " ('mongodb', 32),\n",
       " ('cloud', 25),\n",
       " ('data analysis', 23),\n",
       " ('data visualization', 23),\n",
       " ('bluemix', 23),\n",
       " ('open source', 22),\n",
       " ('deep learning', 22)]"
      ]
     },
     "execution_count": 190,
     "metadata": {},
     "output_type": "execute_result"
    }
   ],
   "source": [
    "top_keywords"
   ]
  },
  {
   "attachments": {},
   "cell_type": "markdown",
   "metadata": {},
   "source": [
    "We see that the same problem occurs with GPT-3 as with the LDA model: We have several keyword categories, but many of them overlap. For example, \"data science\" is the category with the most articles. Since many articles are written about it, we assume it is a \"popular\" topic (even though we don't have any actual user-popularity data to prove this claim). However, many other frequently occurring keywords are closely related to data science. For example, machine learning methods are often considered an integral part of data science and yet \"machine learning\" is the second most frequent keyword. We also see the sixth most important keyword is just \"data\", which overlaps with almost all other keywords in the list at least somewhat.\n",
    "\n",
    "Thus, in order to get good content-based recommendations, we need to have some domain-knowledge about the specific set of articles we are trying to recommend. In a tech environment like this, it is almost inevitable to have some overlap between topics/keywords. The question is how to separate the keywords into topics such that it makes sense to the assumed audience of our platform.\n",
    "\n",
    "Therefore, we will still need to come up with some categories using the GPT-3 generated keywords. This is what I came up with:\n",
    "\n",
    "- \"data science\" seems like a broader, more general category, which is why - apart from the \"data science\" keyword itself - I included some of the more general terms here: \"data\", \"big data\" and \"cloud\". I also thought about including \"data analysis\" and \"data visualization\" here - both are obvious parts of data science - but in the end decided against it, since they seem more specific, technical terms.\n",
    "- I think the \"machine learning\" category is geared more towards technically skilled users who want to know about the latest and greatest ML algorithms. Thus, I included also the \"deep learning\" keyword here.\n",
    "- \"cloudant\" was the most difficult category to form: Cloudant is clearly an IBM service, so it would fit extremely well in an \"IBM Services\" category. On the other hand, it is specifically a **database** service. And as we can see from the list of keywords, there are many database-related keywords here. So we can assume that there are many users interested in this particular field. Therefore, I decided to do a separate \"Database tools\" category, containing keywords \"cloudant\", \"database\", \"postgresql\" and \"mongodb\".\n",
    "- I still kept the fourth \"IBM Services\" category, including \"ibm\", \"ibm watson\" and \"bluemix\" keywords.\n",
    "- Finally I just used \"video\" as the final category.\n",
    "\n",
    "Another drawback of the GPT-based approach compared to LDA is that we don't get *probabilities* of the different keywords/categories, so we can't assign documents to a specific category as easily as with LDA. Therefore, a single article/blog post can be in multiple categories at the same time. I will create one column for each of the \"top five\" categories described above in the `df_content` dataframe and just one-hot encode whether the article is in each of the categories (based on the described keyword assignment) or not:"
   ]
  },
  {
   "cell_type": "code",
   "execution_count": 191,
   "metadata": {},
   "outputs": [],
   "source": [
    "# create lists containing keywords for category assignment\n",
    "cat_data_science = [\"data science\", \"data\", \"big data\", \"cloud\"]\n",
    "cat_ml = [\"machine learning\", \"deep learning\"]\n",
    "cat_db_tools = [\"cloudant\", \"database\", \"postgresql\", \"mongodb\"]\n",
    "cat_ibm_services = [\"ibm\", \"ibm watson\", \"bluemix\"]\n",
    "cat_video = [\"video\"]"
   ]
  },
  {
   "cell_type": "code",
   "execution_count": 192,
   "metadata": {},
   "outputs": [],
   "source": [
    "# One-hot encode the categories, put \"Keyword\" identifier in front of the column name\n",
    "# to signify that this is a category from the GPT3 keywords\n",
    "df_content[\"Keyword Data Science\"] = 0\n",
    "df_content[\"Keyword Data Science\"] = df_content[\"keywords\"].apply(lambda x: 1 if any([keyword in cat_data_science for keyword in x]) else 0)\n",
    "df_content[\"Keyword Machine Learning\"] = 0\n",
    "df_content[\"Keyword Machine Learning\"] = df_content[\"keywords\"].apply(lambda x: 1 if any([keyword in cat_ml for keyword in x]) else 0)\n",
    "df_content[\"Keyword Database Tools\"] = 0\n",
    "df_content[\"Keyword Database Tools\"] = df_content[\"keywords\"].apply(lambda x: 1 if any([keyword in cat_db_tools for keyword in x]) else 0)\n",
    "df_content[\"Keyword IBM Services\"] = 0\n",
    "df_content[\"Keyword IBM Services\"] = df_content[\"keywords\"].apply(lambda x: 1 if any([keyword in cat_ibm_services for keyword in x]) else 0)\n",
    "df_content[\"Keyword Video\"] = 0\n",
    "df_content[\"Keyword Video\"] = df_content[\"keywords\"].apply(lambda x: 1 if any([keyword in cat_video for keyword in x]) else 0)"
   ]
  },
  {
   "cell_type": "code",
   "execution_count": 193,
   "metadata": {},
   "outputs": [
    {
     "data": {
      "text/plain": [
       "0    324\n",
       "3    166\n",
       "5    141\n",
       "6    137\n",
       "4    118\n",
       "2     91\n",
       "1     74\n",
       "Name: topic, dtype: int64"
      ]
     },
     "execution_count": 193,
     "metadata": {},
     "output_type": "execute_result"
    }
   ],
   "source": [
    "df_content[\"topic\"].value_counts()"
   ]
  },
  {
   "cell_type": "code",
   "execution_count": 194,
   "metadata": {},
   "outputs": [
    {
     "data": {
      "text/plain": [
       "Index(['doc_body', 'doc_description', 'doc_full_name', 'doc_status',\n",
       "       'article_id', 'preprocessed_body', 'preprocessed_description',\n",
       "       'preprocessed_full_name', 'preprocessed_content', 'topic',\n",
       "       'Topic Cloudant/Databases', 'Topic Machine Learning',\n",
       "       'Topic Data Science/Newsletters', 'Topic Tech Blog',\n",
       "       'Topic IBM business analytics', 'Topic Apache Spark',\n",
       "       'Topic IBM Watson', 'keywords', 'Keyword Data Science',\n",
       "       'Keyword Machine Learning', 'Keyword Database Tools',\n",
       "       'Keyword IBM Services', 'Keyword Video'],\n",
       "      dtype='object')"
      ]
     },
     "execution_count": 194,
     "metadata": {},
     "output_type": "execute_result"
    }
   ],
   "source": [
    "df_content.columns"
   ]
  },
  {
   "cell_type": "code",
   "execution_count": 198,
   "metadata": {},
   "outputs": [
    {
     "data": {
      "text/plain": [
       "array([   4,   23,   31,   75,   79,   82,  100,  137,  140,  182,  204,\n",
       "        261,  270,  277,  292,  309,  323,  331,  335,  355,  357,  416,\n",
       "        417,  443,  451,  474,  511,  517,  525,  529,  548,  555,  561,\n",
       "        577,  620,  626,  629,  653,  655,  662,  697,  708,  750,  751,\n",
       "        763,  778,  806,  824,  827,  841,  925,  972,  982, 1008, 1009,\n",
       "       1022])"
      ]
     },
     "execution_count": 198,
     "metadata": {},
     "output_type": "execute_result"
    }
   ],
   "source": [
    "df_content[df_content[\"Keyword Video\"]==1][\"article_id\"].values"
   ]
  },
  {
   "cell_type": "code",
   "execution_count": 204,
   "metadata": {},
   "outputs": [],
   "source": [
    "viewed_ids = [511, 517, 525, 982, 1008]\n",
    "categories = [col for col in df_content.columns if ((\"Keyword\" in col) or (\"Topic\" in col))]\n",
    "viewed_df = df_content[df_content[\"article_id\"].isin(viewed_ids)][categories]\n",
    "other_df = df_content[~df_content[\"article_id\"].isin(viewed_ids)][categories]\n",
    "other_ids = df_content[~df_content[\"article_id\"].isin(viewed_ids)][\"article_id\"]\n",
    "similarities = np.dot(viewed_df.values, other_df.values.T).sum(axis=0)"
   ]
  },
  {
   "cell_type": "code",
   "execution_count": 205,
   "metadata": {},
   "outputs": [
    {
     "data": {
      "text/plain": [
       "(1046,)"
      ]
     },
     "execution_count": 205,
     "metadata": {},
     "output_type": "execute_result"
    }
   ],
   "source": [
    "similarities.shape"
   ]
  },
  {
   "cell_type": "code",
   "execution_count": 207,
   "metadata": {},
   "outputs": [
    {
     "data": {
      "text/plain": [
       "0          0\n",
       "1          1\n",
       "2          2\n",
       "3          3\n",
       "4          4\n",
       "        ... \n",
       "1051    1046\n",
       "1052    1047\n",
       "1053    1048\n",
       "1054    1049\n",
       "1055    1050\n",
       "Name: article_id, Length: 1046, dtype: int64"
      ]
     },
     "execution_count": 207,
     "metadata": {},
     "output_type": "execute_result"
    }
   ],
   "source": [
    "other_ids"
   ]
  },
  {
   "cell_type": "code",
   "execution_count": 208,
   "metadata": {},
   "outputs": [
    {
     "data": {
      "text/plain": [
       "array([ 82, 662,   4, ..., 215, 860,   0])"
      ]
     },
     "execution_count": 208,
     "metadata": {},
     "output_type": "execute_result"
    }
   ],
   "source": [
    "similar_ids = other_ids.iloc[np.argsort(similarities)[::-1]].values\n",
    "similar_ids"
   ]
  },
  {
   "cell_type": "code",
   "execution_count": 409,
   "metadata": {
    "collapsed": true
   },
   "outputs": [],
   "source": [
    "def get_similar_articles(df_content, viewed_ids):\n",
    "    '''\n",
    "    INPUT:\n",
    "    df_content - dataframe containing article content as well as category assignments\n",
    "    viewed_ids - list of article ids that the user has already viewed\n",
    "    \n",
    "    OUTPUT:\n",
    "    similar_ids - list of article ids that are similar to the articles the user has already viewed\n",
    "    '''\n",
    "    categories = [col for col in df_content.columns if ((\"Keyword\" in col) or (\"Topic\" in col))]\n",
    "    viewed_df = df_content[df_content[\"article_id\"].isin(viewed_ids)][categories]\n",
    "    other_df = df_content[~df_content[\"article_id\"].isin(viewed_ids)][categories]\n",
    "    other_ids = df_content[~df_content[\"article_id\"].isin(viewed_ids)][\"article_id\"]\n",
    "    similarities = np.dot(viewed_df.values, other_df.values.T).sum(axis=0)\n",
    "    similar_ids = other_ids.iloc[np.argsort(similarities)[::-1]].values\n",
    "    return similar_ids\n",
    "\n",
    "def get_category_popularity(df_content):\n",
    "    '''\n",
    "    INPUT:\n",
    "    df_content - dataframe containing article content as well as category assignments\n",
    "    \n",
    "    OUTPUT:\n",
    "    popularity - dictionary containing the cumulative popularity of each category\n",
    "    '''\n",
    "    \n",
    "    categories = [col for col in df_content.columns if ((\"Keyword\" in col) or (\"Topic\" in col))]\n",
    "    \n",
    "    popularities = {}\n",
    "    for cat in categories:\n",
    "        # Get all articles that belong to the category\n",
    "        articles = df_content[df_content[cat]==1][\"article_id\"].values\n",
    "        \n",
    "        # Get the number of interactions for each article\n",
    "        popularity = []\n",
    "        for article in articles:\n",
    "            popularity.append((article, df[df[\"article_id\"]==article].shape[0]))\n",
    "        \n",
    "        # Assign score to category\n",
    "        popularities[cat] = np.sum(popularity)\n",
    "    \n",
    "    return popularities\n",
    "\n",
    "def get_top_articles_from_category(df_content):\n",
    "    '''\n",
    "    INPUT:\n",
    "    df_content - dataframe containing article content as well as category assignments\n",
    "    \n",
    "    OUTPUT:\n",
    "    cat_popular_articles - dictionary containing the most popular article IDs for each category\n",
    "    '''\n",
    "    \n",
    "    # List of article IDs in decending order of popularity\n",
    "    popular_articles = get_top_article_ids(\"max\")\n",
    "    \n",
    "    # List of categories\n",
    "    categories = [col for col in df_content.columns if ((\"Keyword\" in col) or (\"Topic\" in col))]\n",
    "    \n",
    "    # Get dictionary where the keys are the category names and the values are lists of article\n",
    "    # IDs, sorted by popularity in descending order\n",
    "    cat_popular_articles = {}\n",
    "    for cat in categories:\n",
    "        tmp_articles = df_content[df_content[cat]==1][\"article_id\"].values\n",
    "        cat_popular_articles[cat] = [article for article in popular_articles if article in tmp_articles]\n",
    "    \n",
    "    return cat_popular_articles\n",
    "\n",
    "def make_content_recs(df_content, viewed_articles=None, num_recs=10):\n",
    "    '''\n",
    "    INPUT:\n",
    "    df_content - dataframe containing article content as well as category assignments\n",
    "    viewed_articles - list of article ids that the user has already viewed\n",
    "    num_recs - number of recommendations to return\n",
    "    \n",
    "    \n",
    "    OUTPUT:\n",
    "    recs - list of recommended article ids\n",
    "    '''\n",
    "    \n",
    "    # get most popular articles by category\n",
    "    cat_popular_articles = get_top_articles_from_category(df_content)\n",
    "    \n",
    "    if viewed_articles is None:\n",
    "        # If no articles have been viewed yet, return most popular articles from each category,\n",
    "        # in descending order of topic/keyword category popularity\n",
    "        popularities = get_category_popularity(df_content)\n",
    "        sorted_categories = sorted(popularities.items(), key=lambda x: x[1], reverse=True)\n",
    "        sorted_categories = [cat[0] for cat in sorted_categories]\n",
    "        recs = []\n",
    "        while len(recs) < num_recs:\n",
    "            tmp_len = len(recs)\n",
    "            tmp_cat = sorted_categories[tmp_len % len(sorted_categories)]\n",
    "            for artcl in cat_popular_articles[tmp_cat]:\n",
    "                if artcl not in recs:\n",
    "                    recs.append(artcl)\n",
    "                    break\n",
    "\n",
    "    elif (len(viewed_articles) > 0) & (len(viewed_articles) <= 10):\n",
    "        # If the user hase viewed some articles, we base our recommendations on both article similarity\n",
    "        # and strictly content based techniques. We first get the most similar articles according to\n",
    "        # topic/keyword categories and then we add the most popular articles from each category as usual.\n",
    "        recs = []\n",
    "        \n",
    "        # Get most popular articles by category first:\n",
    "        content_recs = make_content_recs(df_content, viewed_articles=None, num_recs=num_recs//2)\n",
    "        \n",
    "        # Get most similar articles compared to already viewed articles:\n",
    "        similarity_recs = get_similar_articles(df_content, viewed_articles)\n",
    "        \n",
    "        recs = recs + content_recs\n",
    "        for rec in similarity_recs:\n",
    "            if rec not in recs:\n",
    "                recs.append(rec)\n",
    "            if len(recs) == num_recs:\n",
    "                break\n",
    "    else:\n",
    "        # If the user has viewed more than 10 articles, we recommend to use user-user similarity instead\n",
    "        # Since this is a different technique, we throw an error here.\n",
    "        raise ValueError((\"The user has viewed more than 10 articles and \"\n",
    "                          \"therefore we recommend to use user-user \"\n",
    "                          \"recommendations instead of content-based \"\n",
    "                          \"recommendations here.\"))\n",
    "\n",
    "    return recs"
   ]
  },
  {
   "cell_type": "markdown",
   "metadata": {},
   "source": [
    "`2.` Now that you have put together your content-based recommendation system, use the cell below to write a summary explaining how your content based recommender works.  Do you see any possible improvements that could be made to your function?  Is there anything novel about your content based recommender?\n",
    "\n",
    "### This part is NOT REQUIRED to pass this project.  However, you may choose to take this on as an extra way to show off your skills."
   ]
  },
  {
   "cell_type": "markdown",
   "metadata": {},
   "source": [
    "**Write an explanation of your content based recommendation system here.**"
   ]
  },
  {
   "cell_type": "markdown",
   "metadata": {},
   "source": [
    "`3.` Use your content-recommendation system to make recommendations for the below scenarios based on the comments.  Again no tests are provided here, because there isn't one right answer that could be used to find these content based recommendations.\n",
    "\n",
    "### This part is NOT REQUIRED to pass this project.  However, you may choose to take this on as an extra way to show off your skills."
   ]
  },
  {
   "cell_type": "code",
   "execution_count": 410,
   "metadata": {
    "collapsed": true
   },
   "outputs": [],
   "source": [
    "# make recommendations for a brand new user\n",
    "\n",
    "\n",
    "# make a recommendations for a user who only has interacted with article id '1427.0'\n",
    "\n"
   ]
  },
  {
   "cell_type": "markdown",
   "metadata": {},
   "source": [
    "### <a class=\"anchor\" id=\"Matrix-Fact\">Part V: Matrix Factorization</a>\n",
    "\n",
    "In this part of the notebook, you will build use matrix factorization to make article recommendations to the users on the IBM Watson Studio platform.\n",
    "\n",
    "`1.` You should have already created a **user_item** matrix above in **question 1** of **Part III** above.  This first question here will just require that you run the cells to get things set up for the rest of **Part V** of the notebook. "
   ]
  },
  {
   "cell_type": "code",
   "execution_count": 411,
   "metadata": {
    "collapsed": true
   },
   "outputs": [],
   "source": [
    "# Load the matrix here\n",
    "user_item_matrix = pd.read_pickle('user_item_matrix.p')"
   ]
  },
  {
   "cell_type": "code",
   "execution_count": 412,
   "metadata": {
    "collapsed": true
   },
   "outputs": [
    {
     "data": {
      "text/html": [
       "<div>\n",
       "<style scoped>\n",
       "    .dataframe tbody tr th:only-of-type {\n",
       "        vertical-align: middle;\n",
       "    }\n",
       "\n",
       "    .dataframe tbody tr th {\n",
       "        vertical-align: top;\n",
       "    }\n",
       "\n",
       "    .dataframe thead th {\n",
       "        text-align: right;\n",
       "    }\n",
       "</style>\n",
       "<table border=\"1\" class=\"dataframe\">\n",
       "  <thead>\n",
       "    <tr style=\"text-align: right;\">\n",
       "      <th>article_id</th>\n",
       "      <th>0.0</th>\n",
       "      <th>100.0</th>\n",
       "      <th>1000.0</th>\n",
       "      <th>1004.0</th>\n",
       "      <th>1006.0</th>\n",
       "      <th>1008.0</th>\n",
       "      <th>101.0</th>\n",
       "      <th>1014.0</th>\n",
       "      <th>1015.0</th>\n",
       "      <th>1016.0</th>\n",
       "      <th>...</th>\n",
       "      <th>977.0</th>\n",
       "      <th>98.0</th>\n",
       "      <th>981.0</th>\n",
       "      <th>984.0</th>\n",
       "      <th>985.0</th>\n",
       "      <th>986.0</th>\n",
       "      <th>990.0</th>\n",
       "      <th>993.0</th>\n",
       "      <th>996.0</th>\n",
       "      <th>997.0</th>\n",
       "    </tr>\n",
       "    <tr>\n",
       "      <th>user_id</th>\n",
       "      <th></th>\n",
       "      <th></th>\n",
       "      <th></th>\n",
       "      <th></th>\n",
       "      <th></th>\n",
       "      <th></th>\n",
       "      <th></th>\n",
       "      <th></th>\n",
       "      <th></th>\n",
       "      <th></th>\n",
       "      <th></th>\n",
       "      <th></th>\n",
       "      <th></th>\n",
       "      <th></th>\n",
       "      <th></th>\n",
       "      <th></th>\n",
       "      <th></th>\n",
       "      <th></th>\n",
       "      <th></th>\n",
       "      <th></th>\n",
       "      <th></th>\n",
       "    </tr>\n",
       "  </thead>\n",
       "  <tbody>\n",
       "    <tr>\n",
       "      <th>1</th>\n",
       "      <td>0.0</td>\n",
       "      <td>0.0</td>\n",
       "      <td>0.0</td>\n",
       "      <td>0.0</td>\n",
       "      <td>0.0</td>\n",
       "      <td>0.0</td>\n",
       "      <td>0.0</td>\n",
       "      <td>0.0</td>\n",
       "      <td>0.0</td>\n",
       "      <td>0.0</td>\n",
       "      <td>...</td>\n",
       "      <td>0.0</td>\n",
       "      <td>0.0</td>\n",
       "      <td>1.0</td>\n",
       "      <td>0.0</td>\n",
       "      <td>0.0</td>\n",
       "      <td>0.0</td>\n",
       "      <td>0.0</td>\n",
       "      <td>0.0</td>\n",
       "      <td>0.0</td>\n",
       "      <td>0.0</td>\n",
       "    </tr>\n",
       "    <tr>\n",
       "      <th>2</th>\n",
       "      <td>0.0</td>\n",
       "      <td>0.0</td>\n",
       "      <td>0.0</td>\n",
       "      <td>0.0</td>\n",
       "      <td>0.0</td>\n",
       "      <td>0.0</td>\n",
       "      <td>0.0</td>\n",
       "      <td>0.0</td>\n",
       "      <td>0.0</td>\n",
       "      <td>0.0</td>\n",
       "      <td>...</td>\n",
       "      <td>0.0</td>\n",
       "      <td>0.0</td>\n",
       "      <td>0.0</td>\n",
       "      <td>0.0</td>\n",
       "      <td>0.0</td>\n",
       "      <td>0.0</td>\n",
       "      <td>0.0</td>\n",
       "      <td>0.0</td>\n",
       "      <td>0.0</td>\n",
       "      <td>0.0</td>\n",
       "    </tr>\n",
       "    <tr>\n",
       "      <th>3</th>\n",
       "      <td>0.0</td>\n",
       "      <td>0.0</td>\n",
       "      <td>0.0</td>\n",
       "      <td>0.0</td>\n",
       "      <td>0.0</td>\n",
       "      <td>0.0</td>\n",
       "      <td>0.0</td>\n",
       "      <td>0.0</td>\n",
       "      <td>0.0</td>\n",
       "      <td>0.0</td>\n",
       "      <td>...</td>\n",
       "      <td>1.0</td>\n",
       "      <td>0.0</td>\n",
       "      <td>0.0</td>\n",
       "      <td>0.0</td>\n",
       "      <td>0.0</td>\n",
       "      <td>0.0</td>\n",
       "      <td>0.0</td>\n",
       "      <td>0.0</td>\n",
       "      <td>0.0</td>\n",
       "      <td>0.0</td>\n",
       "    </tr>\n",
       "    <tr>\n",
       "      <th>4</th>\n",
       "      <td>0.0</td>\n",
       "      <td>0.0</td>\n",
       "      <td>0.0</td>\n",
       "      <td>0.0</td>\n",
       "      <td>0.0</td>\n",
       "      <td>0.0</td>\n",
       "      <td>0.0</td>\n",
       "      <td>0.0</td>\n",
       "      <td>0.0</td>\n",
       "      <td>0.0</td>\n",
       "      <td>...</td>\n",
       "      <td>0.0</td>\n",
       "      <td>0.0</td>\n",
       "      <td>0.0</td>\n",
       "      <td>0.0</td>\n",
       "      <td>0.0</td>\n",
       "      <td>0.0</td>\n",
       "      <td>0.0</td>\n",
       "      <td>0.0</td>\n",
       "      <td>0.0</td>\n",
       "      <td>0.0</td>\n",
       "    </tr>\n",
       "    <tr>\n",
       "      <th>5</th>\n",
       "      <td>0.0</td>\n",
       "      <td>0.0</td>\n",
       "      <td>0.0</td>\n",
       "      <td>0.0</td>\n",
       "      <td>0.0</td>\n",
       "      <td>0.0</td>\n",
       "      <td>0.0</td>\n",
       "      <td>0.0</td>\n",
       "      <td>0.0</td>\n",
       "      <td>0.0</td>\n",
       "      <td>...</td>\n",
       "      <td>0.0</td>\n",
       "      <td>0.0</td>\n",
       "      <td>0.0</td>\n",
       "      <td>0.0</td>\n",
       "      <td>0.0</td>\n",
       "      <td>0.0</td>\n",
       "      <td>0.0</td>\n",
       "      <td>0.0</td>\n",
       "      <td>0.0</td>\n",
       "      <td>0.0</td>\n",
       "    </tr>\n",
       "  </tbody>\n",
       "</table>\n",
       "<p>5 rows × 714 columns</p>\n",
       "</div>"
      ],
      "text/plain": [
       "article_id  0.0  100.0  1000.0  1004.0  1006.0  1008.0  101.0  1014.0  1015.0  \\\n",
       "user_id                                                                         \n",
       "1           0.0    0.0     0.0     0.0     0.0     0.0    0.0     0.0     0.0   \n",
       "2           0.0    0.0     0.0     0.0     0.0     0.0    0.0     0.0     0.0   \n",
       "3           0.0    0.0     0.0     0.0     0.0     0.0    0.0     0.0     0.0   \n",
       "4           0.0    0.0     0.0     0.0     0.0     0.0    0.0     0.0     0.0   \n",
       "5           0.0    0.0     0.0     0.0     0.0     0.0    0.0     0.0     0.0   \n",
       "\n",
       "article_id  1016.0  ...  977.0  98.0  981.0  984.0  985.0  986.0  990.0  \\\n",
       "user_id             ...                                                   \n",
       "1              0.0  ...    0.0   0.0    1.0    0.0    0.0    0.0    0.0   \n",
       "2              0.0  ...    0.0   0.0    0.0    0.0    0.0    0.0    0.0   \n",
       "3              0.0  ...    1.0   0.0    0.0    0.0    0.0    0.0    0.0   \n",
       "4              0.0  ...    0.0   0.0    0.0    0.0    0.0    0.0    0.0   \n",
       "5              0.0  ...    0.0   0.0    0.0    0.0    0.0    0.0    0.0   \n",
       "\n",
       "article_id  993.0  996.0  997.0  \n",
       "user_id                          \n",
       "1             0.0    0.0    0.0  \n",
       "2             0.0    0.0    0.0  \n",
       "3             0.0    0.0    0.0  \n",
       "4             0.0    0.0    0.0  \n",
       "5             0.0    0.0    0.0  \n",
       "\n",
       "[5 rows x 714 columns]"
      ]
     },
     "execution_count": 412,
     "metadata": {},
     "output_type": "execute_result"
    }
   ],
   "source": [
    "# quick look at the matrix\n",
    "user_item_matrix.head()"
   ]
  },
  {
   "cell_type": "markdown",
   "metadata": {},
   "source": [
    "`2.` In this situation, you can use Singular Value Decomposition from [numpy](https://docs.scipy.org/doc/numpy-1.14.0/reference/generated/numpy.linalg.svd.html) on the user-item matrix.  Use the cell to perform SVD, and explain why this is different than in the lesson."
   ]
  },
  {
   "cell_type": "code",
   "execution_count": 413,
   "metadata": {
    "collapsed": true
   },
   "outputs": [],
   "source": [
    "# Perform SVD on the User-Item Matrix Here\n",
    "\n",
    "u, s, vt = np.linalg.svd(user_item_matrix) # use the built in to get the three matrices"
   ]
  },
  {
   "attachments": {},
   "cell_type": "markdown",
   "metadata": {},
   "source": [
    "The main difference between the article recommendation engine in this notebook and the movie recommendations in the lesson is that there are no ratings involved for the articles on the IBM watson platform. Therefore, the user-item-matrix only contains information about whether a user interacted with an article or not and we can use the value `0` to indicate \"no interaction\" and `1` to indicate \"interaction\".\n",
    "\n",
    "For the movie recommendations in the lesson, this was different: the values in the user-item matrix were **ratings** ranging from values 1 (poor rating) to 10 (good rating). Filling in the value `0` in places where user-item interactions are missing (i.e. the respective user hadn't seen/rated the movie in question) would cause our method to think that this user rated this movie very poorly (below the actual lowest rating value of `1`). **In the movie rating scheme, the number `0` has an actual meaning** which is not true for the case with the IBM watson articles, where we just encode the binary information \"interaction\"/\"no interaction\" with the values `1`/`0`.\n",
    "\n",
    "Therefore, in the movie rating scheme, we need to keep the missing **`NaN`** values and use \"FunkSVD\" which can handle sparse matrices that contain a lot of `NaN`s. For the IBM watson article case, we can use the \"default\" SVD of `numpy`, because we can encode the missing user-item interactions with the `0` value and thus the user-item matrix doesn't contain any `NaN` values that would cause the algorithm to break."
   ]
  },
  {
   "cell_type": "markdown",
   "metadata": {},
   "source": [
    "`3.` Now for the tricky part, how do we choose the number of latent features to use?  Running the below cell, you can see that as the number of latent features increases, we obtain a lower error rate on making predictions for the 1 and 0 values in the user-item matrix.  Run the cell below to get an idea of how the accuracy improves as we increase the number of latent features."
   ]
  },
  {
   "cell_type": "code",
   "execution_count": 414,
   "metadata": {
    "collapsed": true
   },
   "outputs": [
    {
     "data": {
      "image/png": "[encoded data removed]",
      "text/plain": [
       "<Figure size 640x480 with 1 Axes>"
      ]
     },
     "metadata": {},
     "output_type": "display_data"
    }
   ],
   "source": [
    "num_latent_feats = np.arange(10,700+10,20)\n",
    "sum_errs = []\n",
    "\n",
    "for k in num_latent_feats:\n",
    "    # restructure with k latent features\n",
    "    s_new, u_new, vt_new = np.diag(s[:k]), u[:, :k], vt[:k, :]\n",
    "    \n",
    "    # take dot product\n",
    "    user_item_est = np.around(np.dot(np.dot(u_new, s_new), vt_new))\n",
    "    \n",
    "    # compute error for each prediction to actual value\n",
    "    diffs = np.subtract(user_item_matrix, user_item_est)\n",
    "    \n",
    "    # total errors and keep track of them\n",
    "    err = np.sum(np.sum(np.abs(diffs)))\n",
    "    sum_errs.append(err)\n",
    "    \n",
    "    \n",
    "plt.plot(num_latent_feats, 1 - np.array(sum_errs)/df.shape[0]);\n",
    "plt.xlabel('Number of Latent Features');\n",
    "plt.ylabel('Accuracy');\n",
    "plt.title('Accuracy vs. Number of Latent Features');"
   ]
  },
  {
   "cell_type": "markdown",
   "metadata": {},
   "source": [
    "`4.` From the above, we can't really be sure how many features to use, because simply having a better way to predict the 1's and 0's of the matrix doesn't exactly give us an indication of if we are able to make good recommendations.  Instead, we might split our dataset into a training and test set of data, as shown in the cell below.  \n",
    "\n",
    "Use the code from question 3 to understand the impact on accuracy of the training and test sets of data with different numbers of latent features. Using the split below: \n",
    "\n",
    "* How many users can we make predictions for in the test set?  \n",
    "* How many users are we not able to make predictions for because of the cold start problem?\n",
    "* How many articles can we make predictions for in the test set?  \n",
    "* How many articles are we not able to make predictions for because of the cold start problem?"
   ]
  },
  {
   "cell_type": "code",
   "execution_count": 415,
   "metadata": {
    "collapsed": true
   },
   "outputs": [],
   "source": [
    "df_train = df.head(40000)\n",
    "df_test = df.tail(5993)\n",
    "\n",
    "def create_test_and_train_user_item(df_train, df_test):\n",
    "    '''\n",
    "    INPUT:\n",
    "    df_train - training dataframe\n",
    "    df_test - test dataframe\n",
    "    \n",
    "    OUTPUT:\n",
    "    user_item_train - a user-item matrix of the training dataframe \n",
    "                      (unique users for each row and unique articles for each column)\n",
    "    user_item_test - a user-item matrix of the testing dataframe \n",
    "                    (unique users for each row and unique articles for each column)\n",
    "    test_idx - all of the test user ids\n",
    "    test_arts - all of the test article ids\n",
    "    \n",
    "    '''\n",
    "    user_item_train = create_user_item_matrix(df_train)\n",
    "    user_item_test = create_user_item_matrix(df_test)\n",
    "    test_idx = df_test[\"user_id\"].unique()\n",
    "    test_arts = df_test[\"article_id\"].unique()\n",
    "    \n",
    "    return user_item_train, user_item_test, test_idx, test_arts\n",
    "\n",
    "user_item_train, user_item_test, test_idx, test_arts = create_test_and_train_user_item(df_train, df_test)"
   ]
  },
  {
   "cell_type": "code",
   "execution_count": 416,
   "metadata": {},
   "outputs": [
    {
     "name": "stdout",
     "output_type": "stream",
     "text": [
      "We can make predictions for 20 users in the test set.\n",
      "We cannot make predictions for 662 users in the test set because of the cold start problem.\n",
      "We can make predictions for 574 articles in the test set.\n",
      "We cannot make predictions for 0 articles in the test set because of the cold start problem.\n"
     ]
    }
   ],
   "source": [
    "# users in the test set that are not in the train set\n",
    "test_not_in_train = np.setdiff1d(test_idx, df_train[\"user_id\"].unique()).shape[0]\n",
    "\n",
    "# users in the test set that are also in the train set\n",
    "test_in_train = np.intersect1d(test_idx, df_train[\"user_id\"].unique()).shape[0]\n",
    "\n",
    "# articles in the test set that are not in the train set\n",
    "arts_not_in_train = np.setdiff1d(test_arts, df_train[\"article_id\"].unique()).shape[0]\n",
    "\n",
    "# articles in the test set that are also in the train set\n",
    "arts_in_train = np.intersect1d(test_arts, df_train[\"article_id\"].unique()).shape[0]\n",
    "\n",
    "print(f\"We can make predictions for {test_in_train} users in the test set.\")\n",
    "print(f\"We cannot make predictions for {test_not_in_train} users in the test set because of the cold start problem.\")\n",
    "print(f\"We can make predictions for {arts_in_train} articles in the test set.\")\n",
    "print(f\"We cannot make predictions for {arts_not_in_train} articles in the test set because of the cold start problem.\")"
   ]
  },
  {
   "cell_type": "code",
   "execution_count": 417,
   "metadata": {
    "collapsed": true
   },
   "outputs": [
    {
     "name": "stdout",
     "output_type": "stream",
     "text": [
      "Awesome job!  That's right!  All of the test articles are in the training data, but there are only 20 test users that were also in the training set.  All of the other users that are in the test set we have no data on.  Therefore, we cannot make predictions for these users using SVD.\n"
     ]
    }
   ],
   "source": [
    "# Replace the values in the dictionary below\n",
    "a = 662 \n",
    "b = 574 \n",
    "c = 20 \n",
    "d = 0 \n",
    "\n",
    "\n",
    "sol_4_dict = {\n",
    "    'How many users can we make predictions for in the test set?': c, \n",
    "    'How many users in the test set are we not able to make predictions for because of the cold start problem?': a, \n",
    "    'How many articles can we make predictions for in the test set?': b,\n",
    "    'How many articles in the test set are we not able to make predictions for because of the cold start problem?': d\n",
    "}\n",
    "\n",
    "t.sol_4_test(sol_4_dict)"
   ]
  },
  {
   "cell_type": "markdown",
   "metadata": {},
   "source": [
    "`5.` Now use the **user_item_train** dataset from above to find U, S, and V transpose using SVD. Then find the subset of rows in the **user_item_test** dataset that you can predict using this matrix decomposition with different numbers of latent features to see how many features makes sense to keep based on the accuracy on the test data. This will require combining what was done in questions `2` - `4`.\n",
    "\n",
    "Use the cells below to explore how well SVD works towards making predictions for recommendations on the test data.  "
   ]
  },
  {
   "cell_type": "code",
   "execution_count": 418,
   "metadata": {
    "collapsed": true
   },
   "outputs": [],
   "source": [
    "# fit SVD on the user_item_train matrix\n",
    "u_train, s_train, vt_train = np.linalg.svd(user_item_train)"
   ]
  },
  {
   "cell_type": "code",
   "execution_count": 419,
   "metadata": {
    "collapsed": true
   },
   "outputs": [],
   "source": [
    "# Use these cells to see how well you can use the training \n",
    "# decomposition to predict on test data\n",
    "common_usr_indices = np.intersect1d(test_idx, df_train[\"user_id\"].unique())\n",
    "common_arts_indices = np.intersect1d(test_arts, df_train[\"article_id\"].unique())\n",
    "common_usr_item_test = user_item_test.loc[common_usr_indices, common_arts_indices]\n"
   ]
  },
  {
   "cell_type": "code",
   "execution_count": 420,
   "metadata": {},
   "outputs": [],
   "source": [
    "# find indices of user_ids and article_ids in the train set\n",
    "user_matches = np.where(user_item_train.index.isin(common_usr_indices))[0]\n",
    "arts_matches = np.where(user_item_train.columns.isin(common_arts_indices))[0]\n",
    "\n",
    "# set matrices to only include users and articles common to both train and test set\n",
    "u_mat_common = u_train[user_matches, :]\n",
    "vt_mat_common = vt_train[:, arts_matches]"
   ]
  },
  {
   "cell_type": "code",
   "execution_count": 421,
   "metadata": {},
   "outputs": [
    {
     "data": {
      "image/png": "[encoded data removed]",
      "text/plain": [
       "<Figure size 640x480 with 1 Axes>"
      ]
     },
     "metadata": {},
     "output_type": "display_data"
    }
   ],
   "source": [
    "# run same loop as above, but now comparing training and test performance\n",
    "num_latent_feats = np.arange(10,700+10,20)\n",
    "sum_errs_train = []\n",
    "sum_errs_test = []\n",
    "\n",
    "for k in num_latent_feats:\n",
    "    # restructure with k latent features\n",
    "    s_new_train, u_new_train, vt_new_train = np.diag(s_train[:k]), u_train[:, :k], vt_train[:k, :]\n",
    "    \n",
    "    s_new_test, u_new_test, vt_new_test = np.diag(s_train[:k]), u_mat_common[:, :k], vt_mat_common[:k, :]\n",
    "    \n",
    "    # take dot product\n",
    "    user_item_est_train = np.around(np.dot(np.dot(u_new_train, s_new_train), vt_new_train))\n",
    "    user_item_est_test = np.around(np.dot(np.dot(u_new_test, s_new_test), vt_new_test))\n",
    "    \n",
    "    # compute error for each prediction to actual value\n",
    "    diffs_train = np.subtract(user_item_train, user_item_est_train)\n",
    "    diffs_test = np.subtract(common_usr_item_test, user_item_est_test)\n",
    "    \n",
    "    # total errors and keep track of them\n",
    "    err_train = np.sum(np.sum(np.abs(diffs_train)))\n",
    "    err_test = np.sum(np.sum(np.abs(diffs_test)))\n",
    "    sum_errs_train.append(err_train)\n",
    "    sum_errs_test.append(err_test)\n",
    "\n",
    "plt.plot(num_latent_feats, 1 - np.array(sum_errs_train)/(user_item_train.shape[0]*user_item_train.shape[1]), label='Train')\n",
    "plt.plot(num_latent_feats, 1 - np.array(sum_errs_test)/(common_usr_item_test.shape[0]*common_usr_item_test.shape[1]), label='Test')\n",
    "plt.xlabel('Number of Latent Features')\n",
    "plt.ylabel('Accuracy')\n",
    "plt.legend(loc=\"lower right\")\n",
    "plt.title('Accuracy vs. Number of Latent Features')\n",
    "plt.show()"
   ]
  },
  {
   "cell_type": "markdown",
   "metadata": {
    "collapsed": true
   },
   "source": [
    "`6.` Use the cell below to comment on the results you found in the previous question. Given the circumstances of your results, discuss what you might do to determine if the recommendations you make with any of the above recommendation systems are an improvement to how users currently find articles? "
   ]
  },
  {
   "attachments": {},
   "cell_type": "markdown",
   "metadata": {},
   "source": [
    "We can clearly see that the SVD is overfitting on the training set. The more we increase the number of latent features, the better the performance will be on the training set. However, we are optimizing our algorithm to fit exactly this set of data. Once we apply the algorithm to a different, statistically independent dataset, the performance is getting worse, because the algorithm is so overfit on the training set that it doesn't generalize well to new data points. Therefore, we should stick to a small number of latent features, which guarantees the lowest amount of overfitting and thus the best generalization performance of the matrix factorization algorithm.\n",
    "\n",
    "The second part of the question is what we might do to determine if our recommendations work better than the current implementation. One way is to do what we already did: Split our data into a training and test set, optimize our recommendation engine on the training set and then apply to the test set. We can then compare the test performance of our new recommender to that of the current implementation and see if it is better. The tricky part here is how to do the split: Since we might want to use collaborative filtering, we cannot split based on user ID, because users in the test and training sets would then be different and we thus couldn't apply our algorithm that was tuned on the training set to the test set. However, we can make a split in time: restrict the training set to user-item interactions from an earlier time (for example last year) and then try to predict more recent user-item interactions as a test set (for example interactions from the current year).\n",
    "\n",
    "A second method would be to conduct an A/B test using a different recommendation method for the experiment group and keep the current implementation for the control group. We can then look if an improvement for example on the incremental response can be observed for the new recommendation engine. This approach is very risky, however, since deploying an experiment to real users without prior testing and validation is usually not recommendable. After all, we might loose valuable customers from the experiment group if the new recommendation engine does a very poor job. "
   ]
  },
  {
   "cell_type": "markdown",
   "metadata": {
    "collapsed": true
   },
   "source": [
    "<a id='conclusions'></a>\n",
    "### Extras\n",
    "Using your workbook, you could now save your recommendations for each user, develop a class to make new predictions and update your results, and make a flask app to deploy your results.  These tasks are beyond what is required for this project.  However, from what you learned in the lessons, you certainly capable of taking these tasks on to improve upon your work here!\n",
    "\n",
    "\n",
    "## Conclusion\n",
    "\n",
    "> Congratulations!  You have reached the end of the Recommendations with IBM project! \n",
    "\n",
    "> **Tip**: Once you are satisfied with your work here, check over your report to make sure that it is satisfies all the areas of the [rubric](https://review.udacity.com/#!/rubrics/2322/view). You should also probably remove all of the \"Tips\" like this one so that the presentation is as polished as possible.\n",
    "\n",
    "\n",
    "## Directions to Submit\n",
    "\n",
    "> Before you submit your project, you need to create a .html or .pdf version of this notebook in the workspace here. To do that, run the code cell below. If it worked correctly, you should get a return code of 0, and you should see the generated .html file in the workspace directory (click on the orange Jupyter icon in the upper left).\n",
    "\n",
    "> Alternatively, you can download this report as .html via the **File** > **Download as** submenu, and then manually upload it into the workspace directory by clicking on the orange Jupyter icon in the upper left, then using the Upload button.\n",
    "\n",
    "> Once you've done this, you can submit your project by clicking on the \"Submit Project\" button in the lower right here. This will create and submit a zip file with this .ipynb doc and the .html or .pdf version you created. Congratulations! "
   ]
  },
  {
   "cell_type": "code",
   "execution_count": null,
   "metadata": {
    "collapsed": true
   },
   "outputs": [],
   "source": [
    "from subprocess import call\n",
    "call(['python', '-m', 'nbconvert', 'Recommendations_with_IBM.ipynb'])"
   ]
  }
 ],
 "metadata": {
  "kernelspec": {
   "display_name": "Python 3",
   "language": "python",
   "name": "python3"
  },
  "language_info": {
   "codemirror_mode": {
    "name": "ipython",
    "version": 3
   },
   "file_extension": ".py",
   "mimetype": "text/x-python",
   "name": "python",
   "nbconvert_exporter": "python",
   "pygments_lexer": "ipython3",
   "version": "3.10.10"
  }
 },
 "nbformat": 4,
 "nbformat_minor": 2
}
